{
 "cells": [
  {
   "cell_type": "markdown",
   "metadata": {},
   "source": [
    "## 使用GET 存取資料"
   ]
  },
  {
   "cell_type": "code",
   "execution_count": 1,
   "metadata": {
    "collapsed": false
   },
   "outputs": [
    {
     "data": {
      "text/plain": [
       "['ConnectTimeout',\n",
       " 'ConnectionError',\n",
       " 'DependencyWarning',\n",
       " 'FileModeWarning',\n",
       " 'HTTPError',\n",
       " 'NullHandler',\n",
       " 'PreparedRequest',\n",
       " 'ReadTimeout',\n",
       " 'Request',\n",
       " 'RequestException',\n",
       " 'Response',\n",
       " 'Session',\n",
       " 'Timeout',\n",
       " 'TooManyRedirects',\n",
       " 'URLRequired',\n",
       " '__author__',\n",
       " '__build__',\n",
       " '__builtins__',\n",
       " '__cached__',\n",
       " '__copyright__',\n",
       " '__doc__',\n",
       " '__file__',\n",
       " '__license__',\n",
       " '__loader__',\n",
       " '__name__',\n",
       " '__package__',\n",
       " '__path__',\n",
       " '__spec__',\n",
       " '__title__',\n",
       " '__version__',\n",
       " 'adapters',\n",
       " 'api',\n",
       " 'auth',\n",
       " 'certs',\n",
       " 'codes',\n",
       " 'compat',\n",
       " 'cookies',\n",
       " 'delete',\n",
       " 'exceptions',\n",
       " 'get',\n",
       " 'head',\n",
       " 'hooks',\n",
       " 'logging',\n",
       " 'models',\n",
       " 'options',\n",
       " 'packages',\n",
       " 'patch',\n",
       " 'post',\n",
       " 'put',\n",
       " 'request',\n",
       " 'session',\n",
       " 'sessions',\n",
       " 'status_codes',\n",
       " 'structures',\n",
       " 'utils',\n",
       " 'warnings']"
      ]
     },
     "execution_count": 1,
     "metadata": {},
     "output_type": "execute_result"
    }
   ],
   "source": [
    "import requests\n",
    "dir(requests)"
   ]
  },
  {
   "cell_type": "code",
   "execution_count": 3,
   "metadata": {
    "collapsed": false
   },
   "outputs": [],
   "source": [
    "res = requests.get('http://www.appledaily.com.tw/realtimenews/section/new/')\n",
    "#print(res.text)"
   ]
  },
  {
   "cell_type": "markdown",
   "metadata": {},
   "source": [
    "## 使用POST 存取資料"
   ]
  },
  {
   "cell_type": "code",
   "execution_count": 5,
   "metadata": {
    "collapsed": true
   },
   "outputs": [],
   "source": [
    "?requests.post"
   ]
  },
  {
   "cell_type": "code",
   "execution_count": 7,
   "metadata": {
    "collapsed": false
   },
   "outputs": [],
   "source": [
    "import requests\n",
    "url = 'https://www.thsrc.com.tw/tw/TimeTable/SearchResult'\n",
    "payload = {\n",
    "'StartStation':'977abb69-413a-4ccf-a109-0272c24fd490',\n",
    "'EndStation':'3301e395-46b8-47aa-aa37-139e15708779',\n",
    "'SearchDate':'2016/10/05',\n",
    "'SearchTime':'10:00',\n",
    "'SearchWay':'DepartureInMandarin'    \n",
    "}\n",
    "res = requests.post(url, data = payload)\n",
    "#print(res.text)"
   ]
  },
  {
   "cell_type": "markdown",
   "metadata": {},
   "source": [
    "## 台鐵簡易查詢\n",
    "- http://twtraffic.tra.gov.tw/twrail/EasySearch.aspx"
   ]
  },
  {
   "cell_type": "code",
   "execution_count": 20,
   "metadata": {
    "collapsed": false
   },
   "outputs": [
    {
     "name": "stdout",
     "output_type": "stream",
     "text": [
      "<class 'requests.models.Response'>\n"
     ]
    }
   ],
   "source": [
    "import requests\n",
    "res = requests.get('http://twtraffic.tra.gov.tw/twrail/SearchResult.aspx?searchtype=0&searchdate=2016/10/05&fromstation=1810&tostation=1008&trainclass=%271100%27,%271101%27,%271102%27,%271107%27,%271108%27,%271110%27,%271120%27&fromtime=0600&totime=2359')\n",
    "print(type(res))\n",
    "#print(res.text)"
   ]
  },
  {
   "cell_type": "markdown",
   "metadata": {},
   "source": [
    "## 使用BeautifulSoup4 萃取資料"
   ]
  },
  {
   "cell_type": "code",
   "execution_count": 13,
   "metadata": {
    "collapsed": false
   },
   "outputs": [
    {
     "name": "stdout",
     "output_type": "stream",
     "text": [
      "<class 'str'>\n",
      "<class 'bs4.BeautifulSoup'>\n"
     ]
    }
   ],
   "source": [
    "from bs4 import BeautifulSoup \n",
    "import bs4 \n",
    "\n",
    "\n",
    "html_sample = '''\n",
    "<html> \n",
    "  <body> \n",
    "    <h1 id=\"title\">Hello World</h1> \n",
    "    <a href=\"#\" class=\"link\">This is link1</a> \n",
    "    <a href=\"# link2\" class=\"link\">This is link2</a> \n",
    "  </body>\n",
    "</html>\n",
    "'''\n",
    "soup = BeautifulSoup(html_sample, 'html.parser')\n",
    "print(type(html_sample))\n",
    "print(type(soup))"
   ]
  },
  {
   "cell_type": "markdown",
   "metadata": {},
   "source": [
    "## 抽取H1"
   ]
  },
  {
   "cell_type": "code",
   "execution_count": 15,
   "metadata": {
    "collapsed": false
   },
   "outputs": [
    {
     "name": "stdout",
     "output_type": "stream",
     "text": [
      "[<h1 id=\"title\">Hello World</h1>]\n",
      "<class 'list'>\n"
     ]
    }
   ],
   "source": [
    "h1 = soup.select('h1')\n",
    "print(h1)\n",
    "print(type(h1))"
   ]
  },
  {
   "cell_type": "code",
   "execution_count": 19,
   "metadata": {
    "collapsed": false
   },
   "outputs": [
    {
     "name": "stdout",
     "output_type": "stream",
     "text": [
      "<h1 id=\"title\">Hello World</h1>\n",
      "<class 'bs4.element.Tag'>\n",
      "Hello World\n"
     ]
    }
   ],
   "source": [
    "print(h1[0])\n",
    "print(type(h1[0]))\n",
    "print(h1[0].text)"
   ]
  },
  {
   "cell_type": "code",
   "execution_count": 16,
   "metadata": {
    "collapsed": false
   },
   "outputs": [
    {
     "name": "stdout",
     "output_type": "stream",
     "text": [
      "1\n"
     ]
    }
   ],
   "source": [
    "a = [1,2,3] # list\n",
    "print(a[0])\n"
   ]
  },
  {
   "cell_type": "markdown",
   "metadata": {},
   "source": [
    "## 抽取 a "
   ]
  },
  {
   "cell_type": "code",
   "execution_count": 23,
   "metadata": {
    "collapsed": false
   },
   "outputs": [
    {
     "name": "stdout",
     "output_type": "stream",
     "text": [
      "[<a class=\"link\" href=\"#\">This is link1</a>, <a class=\"link\" href=\"# link2\">This is link2</a>]\n"
     ]
    }
   ],
   "source": [
    "print(soup.select('a'))"
   ]
  },
  {
   "cell_type": "code",
   "execution_count": 27,
   "metadata": {
    "collapsed": false
   },
   "outputs": [
    {
     "name": "stdout",
     "output_type": "stream",
     "text": [
      "<a class=\"link\" href=\"#\">This is link1</a>\n",
      "This is link1\n"
     ]
    }
   ],
   "source": [
    "a = soup.select('a')\n",
    "print(a[0])\n",
    "print(a[0].text)"
   ]
  },
  {
   "cell_type": "code",
   "execution_count": 28,
   "metadata": {
    "collapsed": false
   },
   "outputs": [
    {
     "name": "stdout",
     "output_type": "stream",
     "text": [
      "<a class=\"link\" href=\"# link2\">This is link2</a>\n",
      "This is link2\n"
     ]
    }
   ],
   "source": [
    "print(a[1])\n",
    "print(a[1].text)"
   ]
  },
  {
   "cell_type": "code",
   "execution_count": 26,
   "metadata": {
    "collapsed": false
   },
   "outputs": [
    {
     "ename": "IndexError",
     "evalue": "list index out of range",
     "output_type": "error",
     "traceback": [
      "\u001b[1;31m---------------------------------------------------------------------------\u001b[0m",
      "\u001b[1;31mIndexError\u001b[0m                                Traceback (most recent call last)",
      "\u001b[1;32m<ipython-input-26-f0ac067af5fb>\u001b[0m in \u001b[0;36m<module>\u001b[1;34m()\u001b[0m\n\u001b[1;32m----> 1\u001b[1;33m \u001b[0mprint\u001b[0m\u001b[1;33m(\u001b[0m\u001b[0ma\u001b[0m\u001b[1;33m[\u001b[0m\u001b[1;36m2\u001b[0m\u001b[1;33m]\u001b[0m\u001b[1;33m)\u001b[0m\u001b[1;33m\u001b[0m\u001b[0m\n\u001b[0m",
      "\u001b[1;31mIndexError\u001b[0m: list index out of range"
     ]
    }
   ],
   "source": [
    "print(a[2])"
   ]
  },
  {
   "cell_type": "markdown",
   "metadata": {},
   "source": [
    "## 根據css 的id 取值"
   ]
  },
  {
   "cell_type": "code",
   "execution_count": 31,
   "metadata": {
    "collapsed": false
   },
   "outputs": [
    {
     "name": "stdout",
     "output_type": "stream",
     "text": [
      "[<h1 id=\"title\">Hello World</h1>]\n",
      "[<h1 id=\"title\">Hello World</h1>]\n"
     ]
    }
   ],
   "source": [
    "# <h1 id=\"title\">Hello World</h1> \n",
    "print(soup.select('h1')) # 根據標籤為h1 \n",
    "print(soup.select('#title')) # 根據id 為 title "
   ]
  },
  {
   "cell_type": "code",
   "execution_count": 33,
   "metadata": {
    "collapsed": false
   },
   "outputs": [
    {
     "name": "stdout",
     "output_type": "stream",
     "text": [
      "[<a class=\"link\" href=\"#\">This is link1</a>, <a class=\"link\" href=\"# link2\">This is link2</a>]\n",
      "[<a class=\"link\" href=\"#\">This is link1</a>, <a class=\"link\" href=\"# link2\">This is link2</a>]\n"
     ]
    }
   ],
   "source": [
    "#  <a href=\"#\" class=\"link\">This is link1</a> \n",
    "#  <a href=\"# link2\" class=\"link\">This is link2</a> \n",
    "\n",
    "print(soup.select('a'))# 根據標籤為a\n",
    "print(soup.select('.link'))# 根據css 為 link"
   ]
  },
  {
   "cell_type": "code",
   "execution_count": 37,
   "metadata": {
    "collapsed": false
   },
   "outputs": [
    {
     "name": "stdout",
     "output_type": "stream",
     "text": [
      "<a class=\"link\" href=\"#\">This is link1</a>\n",
      "<a class=\"link\" href=\"# link2\">This is link2</a>\n"
     ]
    }
   ],
   "source": [
    "links = soup.select('.link')\n",
    "print(links[0])\n",
    "print(links[1])\n"
   ]
  },
  {
   "cell_type": "code",
   "execution_count": 39,
   "metadata": {
    "collapsed": false
   },
   "outputs": [
    {
     "name": "stdout",
     "output_type": "stream",
     "text": [
      "<a class=\"link\" href=\"#\">This is link1</a>\n",
      "<a class=\"link\" href=\"# link2\">This is link2</a>\n"
     ]
    }
   ],
   "source": [
    "links = soup.select('.link')\n",
    "for li in links:\n",
    "    print(li)"
   ]
  },
  {
   "cell_type": "markdown",
   "metadata": {},
   "source": [
    "## 取得a中的文字"
   ]
  },
  {
   "cell_type": "code",
   "execution_count": 40,
   "metadata": {
    "collapsed": false
   },
   "outputs": [
    {
     "name": "stdout",
     "output_type": "stream",
     "text": [
      "This is link1\n",
      "This is link2\n"
     ]
    }
   ],
   "source": [
    "for li in links:\n",
    "    print(li.text)"
   ]
  },
  {
   "cell_type": "markdown",
   "metadata": {},
   "source": [
    "## 取得a內的連結"
   ]
  },
  {
   "cell_type": "code",
   "execution_count": 49,
   "metadata": {
    "collapsed": false
   },
   "outputs": [
    {
     "name": "stdout",
     "output_type": "stream",
     "text": [
      "#\n",
      "# link2\n"
     ]
    }
   ],
   "source": [
    "links = soup.select('.link')\n",
    "for li in links:\n",
    "    #print(li)\n",
    "    print(li['href'])"
   ]
  },
  {
   "cell_type": "markdown",
   "metadata": {},
   "source": [
    "## 存取屬性的範例"
   ]
  },
  {
   "cell_type": "code",
   "execution_count": 47,
   "metadata": {
    "collapsed": false
   },
   "outputs": [
    {
     "name": "stdout",
     "output_type": "stream",
     "text": [
      "[<a company=\"cathay\" href=\"#\" qoo=\"123\"> link me </a>]\n",
      "<a company=\"cathay\" href=\"#\" qoo=\"123\"> link me </a>\n",
      " link me \n",
      "#\n",
      "123\n",
      "cathay\n"
     ]
    }
   ],
   "source": [
    "sample = '<a href=# qoo=123 company=cathay> link me </a>'\n",
    "soup2 = BeautifulSoup(sample, 'html.parser')\n",
    "print(soup2.select('a'))\n",
    "print(soup2.select('a')[0])\n",
    "print(soup2.select('a')[0].text)\n",
    "\n",
    "print(soup2.select('a')[0]['href'])\n",
    "print(soup2.select('a')[0]['qoo'])\n",
    "print(soup2.select('a')[0]['company'])"
   ]
  },
  {
   "cell_type": "markdown",
   "metadata": {},
   "source": [
    "## 資料蒐集實務"
   ]
  },
  {
   "cell_type": "code",
   "execution_count": 67,
   "metadata": {
    "collapsed": false
   },
   "outputs": [],
   "source": [
    "import requests\n",
    "from bs4 import BeautifulSoup \n",
    "res = requests.get('http://www.appledaily.com.tw/realtimenews/section/new/')\n",
    "#print(res.text)\n",
    "soup = BeautifulSoup(res.text, 'html.parser')"
   ]
  },
  {
   "cell_type": "markdown",
   "metadata": {},
   "source": [
    "### 取得title"
   ]
  },
  {
   "cell_type": "code",
   "execution_count": 68,
   "metadata": {
    "collapsed": false
   },
   "outputs": [
    {
     "name": "stdout",
     "output_type": "stream",
     "text": [
      "[<title>蘋果即時新聞｜蘋果日報｜Apple Daily</title>]\n",
      "<title>蘋果即時新聞｜蘋果日報｜Apple Daily</title>\n",
      "蘋果即時新聞｜蘋果日報｜Apple Daily\n"
     ]
    }
   ],
   "source": [
    "print(soup.select('title'))\n",
    "print(soup.select('title')[0])\n",
    "print(soup.select('title')[0].text)"
   ]
  },
  {
   "cell_type": "code",
   "execution_count": 69,
   "metadata": {
    "collapsed": false
   },
   "outputs": [
    {
     "name": "stdout",
     "output_type": "stream",
     "text": [
      "[<li class=\"rtddt polit even\">\n",
      "<a href=\"/realtimenews/article/politics/20161005/962172/【公庫】2015古美解凍整理\" target=\"_blank\">\n",
      "<time>13:32</time>\n",
      "<h2>政治</h2>\n",
      "<h1><font color=\"#383c40\">【公庫】2015古美解凍整理(11)</font></h1>\n",
      "</a>\n",
      "</li>, <li class=\"rtddt polit even\">\n",
      "<a href=\"/realtimenews/article/politics/20161005/962163/綠委被控立院色狼　當眾人面掐頸摸胸\" target=\"_blank\">\n",
      "<time>13:25</time>\n",
      "<h2>政治</h2>\n",
      "<h1><font color=\"#383c40\">綠委被控立院色狼　當眾人面掐頸摸胸(1901)</font></h1>\n",
      "</a>\n",
      "</li>, <li class=\"rtddt polit even\">\n",
      "<a href=\"/realtimenews/article/politics/20161005/962142/扁該不該出席國慶大典？　醫療團隊這樣說\" target=\"_blank\">\n",
      "<time>13:13</time>\n",
      "<h2>政治</h2>\n",
      "<h1><font color=\"#ff0000\">扁該不該出席國慶大典？　醫療團隊這樣說(2502)</font></h1>\n",
      "</a>\n",
      "</li>]\n"
     ]
    }
   ],
   "source": [
    "print(soup.select('li.rtddt.polit.even'))"
   ]
  },
  {
   "cell_type": "code",
   "execution_count": 70,
   "metadata": {
    "collapsed": false
   },
   "outputs": [],
   "source": [
    "#print(soup.select('li.rtddt')) # 抽取li 下 class 為 rtddt 的清單\n",
    "#print(soup.select('.rtddt'))    # 抽取class 為 rtddt 的清單"
   ]
  },
  {
   "cell_type": "markdown",
   "metadata": {},
   "source": [
    "## InfoLite\n",
    "- https://chrome.google.com/webstore/detail/infolite/ipjbadabbpedegielkhgpiekdlmfpgal"
   ]
  },
  {
   "cell_type": "code",
   "execution_count": 71,
   "metadata": {
    "collapsed": false
   },
   "outputs": [],
   "source": [
    "#print(soup.select('.rtddt a'))"
   ]
  },
  {
   "cell_type": "markdown",
   "metadata": {},
   "source": [
    "### 剖析蘋果新聞列表"
   ]
  },
  {
   "cell_type": "code",
   "execution_count": 72,
   "metadata": {
    "collapsed": false
   },
   "outputs": [
    {
     "name": "stdout",
     "output_type": "stream",
     "text": [
      "31\n"
     ]
    }
   ],
   "source": [
    "rtddt = soup.select('.rtddt a')\n",
    "#print(rtddt)\n",
    "print(len(rtddt))"
   ]
  },
  {
   "cell_type": "code",
   "execution_count": 75,
   "metadata": {
    "collapsed": false
   },
   "outputs": [
    {
     "data": {
      "text/plain": [
       "<a href=\"/realtimenews/article/politics/20161005/962178/【公庫】不滿民進黨強渡砍假案　工人懸吊砸蛋誓言再戰\" target=\"_blank\">\n",
       "<time>13:42</time>\n",
       "<h2>政治</h2>\n",
       "<h1><font color=\"#383c40\">【公庫】不滿民進黨強渡砍假案　工人懸吊砸...(0)</font></h1>\n",
       "</a>"
      ]
     },
     "execution_count": 75,
     "metadata": {},
     "output_type": "execute_result"
    }
   ],
   "source": [
    "first_news = rtddt[0]\n",
    "first_news"
   ]
  },
  {
   "cell_type": "code",
   "execution_count": 79,
   "metadata": {
    "collapsed": false
   },
   "outputs": [
    {
     "name": "stdout",
     "output_type": "stream",
     "text": [
      "【公庫】不滿民進黨強渡砍假案　工人懸吊砸...(0) 政治 13:42\n"
     ]
    }
   ],
   "source": [
    "time     = first_news.select('time')[0].text\n",
    "category = first_news.select('h2')[0].text\n",
    "title    = first_news.select('h1')[0].text\n",
    "print(title, category, time)"
   ]
  },
  {
   "cell_type": "code",
   "execution_count": 80,
   "metadata": {
    "collapsed": false
   },
   "outputs": [
    {
     "name": "stdout",
     "output_type": "stream",
     "text": [
      "1\n",
      "2\n",
      "3\n",
      "4\n",
      "5\n"
     ]
    }
   ],
   "source": [
    "a = [1,2,3,4,5]\n",
    "for qoo in a:\n",
    "    print(qoo)"
   ]
  },
  {
   "cell_type": "markdown",
   "metadata": {},
   "source": [
    "### 整理出每篇新聞的時間(time), 大標題(h1), 類別(h2)"
   ]
  },
  {
   "cell_type": "code",
   "execution_count": 95,
   "metadata": {
    "collapsed": false
   },
   "outputs": [
    {
     "name": "stdout",
     "output_type": "stream",
     "text": [
      "13:42 政治 【公庫】不滿民進黨強渡砍假案　工人懸吊砸...(0)\n",
      "13:40 生活 四歲童哭喊「小強不能死」　理由讓大人笑噴(1603)\n",
      "13:39 政治 【公庫】砍假案立院決戰日 勞團肉身擋車綠...(0)\n",
      "13:39 特企 【特企】跨界酒食新體驗【日本銘酒祭】 (2085)\n",
      "13:38 娛樂 許純美愛花美男頭破血流　嘆邱品叡「老那麼...(136)\n",
      "13:38 財經 大立光創高後拉回　台股收盤下跌15點(16)\n",
      "13:37 娛樂 【獨家】阿妹Hebe林俊傑蕭敬騰掏空8億...(72255)\n",
      "13:37 論壇 ​台化為燃煤電廠抗爭　惹得長庚醫院一身黑(502)\n",
      "13:37 生活 10月的2天國假將放假　但聖誕節放不放仍...(40)\n",
      "13:32 政治 【公庫】2015古美解凍整理(11)\n",
      "13:32 社會 人間悲歌！不堪母病身亡　女跳河失蹤留下精...(40893)\n",
      "13:30 財經 彭博：宏達電由品牌淪為代工 完成滅亡故事(91041)\n",
      "13:28 社會 高美溼地驚傳偷渡　研判8越籍人上岸逃竄(28698)\n",
      "13:27 社會 攬大學生賭德州撲克　「沒想像中好賺」(668)\n",
      "13:26 娛樂 【狗仔偷拍】許純美4病攻心求和　邱品叡冷...(109035)\n",
      "13:25 政治 綠委被控立院色狼　當眾人面掐頸摸胸(1901)\n",
      "13:24 社會 美女警提供住宿　困台日女讚：好窩心！(1641)\n",
      "13:22 社會 帶槍尋仇沒戴安全帽　被警攔撿GG了！(744)\n",
      "13:22 生活 交通部新一波人事變動　祈文中接任交部次長(539)\n",
      "13:20 3C pepper機器人開工　陪打棒球幫賣i7(567)\n",
      "13:20 政治 發不出薪水　洪秀柱：清算鬥爭違法違憲(518)\n",
      "13:18 國際 《富比士》美國富豪榜　蓋茲又是首富(736)\n",
      "13:18 社會 女警跳洗腦神曲PPAP　變「阿婆哄騙」(1614)\n",
      "13:18 生活 阿伯騎車這樣找掩護　網友笑：等不及當兵了(1822)\n",
      "13:18 社會 女賊偷車代步　卻找無車位被逮(492)\n",
      "13:16 國際 【靈異】機車女乘客被撞死　拍到靈魂出竅(34011)\n",
      "13:16 體育 NBA熱身賽今日戰績　勇士狂勝快艇45分(922)\n",
      "13:13 政治 扁該不該出席國慶大典？　醫療團隊這樣說(2502)\n",
      "13:10 國際 【更新】港社運人士黃之鋒在泰被扣留　等候...(16750)\n",
      "13:10 社會 蔡友才遭收押　兆豐副總應訊：不要問我(1040)\n",
      "13:08 生活 敗部復活　趙興華遭火燒車牽連下台改接任高...(615)\n"
     ]
    }
   ],
   "source": [
    "rtddt = soup.select('li.rtddt')\n",
    "for news in rtddt:\n",
    "    #print(news)\n",
    "    #print('===================================')\n",
    "    time = news.select('time')[0].text\n",
    "    h1 = news.select('h1')[0].text.strip()\n",
    "    h2 = news.select('h2')[0].text\n",
    "    print(time, h2, h1)"
   ]
  },
  {
   "cell_type": "markdown",
   "metadata": {},
   "source": [
    "### 如何使用strip 去除左右空白及換行符號"
   ]
  },
  {
   "cell_type": "code",
   "execution_count": 89,
   "metadata": {
    "collapsed": false
   },
   "outputs": [
    {
     "name": "stdout",
     "output_type": "stream",
     "text": [
      "\n",
      "\n",
      "【特企】跨界酒食新體驗【日本銘酒祭】 (2085)\n",
      "'\\n\\n【特企】跨界酒食新體驗【日本銘酒祭】 (2085)'\n"
     ]
    }
   ],
   "source": [
    "a = '\\n\\n【特企】跨界酒食新體驗【日本銘酒祭】 (2085)'\n",
    "print(a)\n",
    "print(repr(a))"
   ]
  },
  {
   "cell_type": "code",
   "execution_count": 91,
   "metadata": {
    "collapsed": false
   },
   "outputs": [
    {
     "name": "stdout",
     "output_type": "stream",
     "text": [
      "\n",
      "\n",
      " \t                123      456 \n",
      "\n",
      "\n"
     ]
    }
   ],
   "source": [
    "a = '\\n\\n \\t                123      456 \\n\\n'\n",
    "print(a)"
   ]
  },
  {
   "cell_type": "code",
   "execution_count": 93,
   "metadata": {
    "collapsed": false
   },
   "outputs": [
    {
     "name": "stdout",
     "output_type": "stream",
     "text": [
      "123      456\n"
     ]
    }
   ],
   "source": [
    "print(a.strip()) # strip 移除左右空白"
   ]
  },
  {
   "cell_type": "code",
   "execution_count": null,
   "metadata": {
    "collapsed": true
   },
   "outputs": [],
   "source": []
  }
 ],
 "metadata": {
  "kernelspec": {
   "display_name": "Python [Root]",
   "language": "python",
   "name": "Python [Root]"
  },
  "language_info": {
   "codemirror_mode": {
    "name": "ipython",
    "version": 3
   },
   "file_extension": ".py",
   "mimetype": "text/x-python",
   "name": "python",
   "nbconvert_exporter": "python",
   "pygments_lexer": "ipython3",
   "version": "3.5.2"
  }
 },
 "nbformat": 4,
 "nbformat_minor": 0
}
