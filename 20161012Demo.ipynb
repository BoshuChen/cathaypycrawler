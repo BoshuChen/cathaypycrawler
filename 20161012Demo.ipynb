{
 "cells": [
  {
   "cell_type": "code",
   "execution_count": 1,
   "metadata": {
    "collapsed": true
   },
   "outputs": [],
   "source": [
    "import requests\n",
    "from bs4 import BeautifulSoup\n",
    "from datetime import datetime\n",
    "import re"
   ]
  },
  {
   "cell_type": "code",
   "execution_count": 12,
   "metadata": {
    "collapsed": false
   },
   "outputs": [],
   "source": [
    "def pageDetail(detailurl):\n",
    "    # 抓取內文頁面\n",
    "    res = requests.get(detailurl)\n",
    "    soup = BeautifulSoup(res.text, 'html.parser')\n",
    "\n",
    "    #標題\n",
    "    title   = soup.select('#h1')[0].text\n",
    "\n",
    "    #摘要\n",
    "    summary = soup.select('#summary')[0].text\n",
    "\n",
    "    #時間\n",
    "    time    = soup.select('.gggs time')[0].text\n",
    "    dt      = datetime.strptime(time, '%Y年%m月%d日%H:%M')\n",
    "\n",
    "    #人氣\n",
    "    clicked      = 0\n",
    "    clicked_text = soup.select('.clicked')[0].text\n",
    "    m            = re.search('.+\\((\\d+)\\)', clicked_text) \n",
    "    if m:\n",
    "        clicked  = int(m.group(1))\n",
    "    \n",
    "    return {'title':title, 'summary':summary, 'dt':dt, 'clicked':clicked}"
   ]
  },
  {
   "cell_type": "code",
   "execution_count": 13,
   "metadata": {
    "collapsed": false
   },
   "outputs": [
    {
     "data": {
      "text/plain": [
       "{'clicked': 594,\n",
       " 'dt': datetime.datetime(2016, 10, 12, 9, 37),\n",
       " 'summary': '三星昨宣布永久停產Note7，股價繼昨日收盤暴跌8.04%，今早盤一度續跌3.3%至149.40萬韓元，3個交易日累計下殺逾12%。昨美股3大指數全面收黑，跌幅均超過1%，其中道瓊工業指數跌逾200點或1.1%，收18128.66點。美國聯準會（Fed）可能升息、在美股財報季打頭陣的美鋁（ALCOA）發布的財報不如預期，以及三星陷入麻煩，均令投資人緊張。惟三星死對頭蘋果周二股價繼續逆勢昂揚，收漲0.22%至每股116.30美元，再創今年收盤新高，盤中最多勁揚2.3%。據《深圳商報》報導，蘋果執行長庫克在深圳會見地方官員時稱，將在深圳設立研發中心。庫克表示蘋果在深圳有10萬人致力於軟體開發，將繼續擴展在中國的研發投入。之前《財新》也報導，蘋果投資3億元人民幣，在北京中關村設立在中國首座研發中心。（于倩若／綜合外電報導）\\xa0',\n",
       " 'title': 'Note7永久停產\\u3000三星早盤再跌3.3%'}"
      ]
     },
     "execution_count": 13,
     "metadata": {},
     "output_type": "execute_result"
    }
   ],
   "source": [
    "url = 'http://www.appledaily.com.tw/realtimenews/article/finance/20161012/966376/Note7%E6%B0%B8%E4%B9%85%E5%81%9C%E7%94%A2%E3%80%80%E4%B8%89%E6%98%9F%E6%97%A9%E7%9B%A4%E5%86%8D%E8%B7%8C3.3'\n",
    "pageDetail(url)"
   ]
  },
  {
   "cell_type": "code",
   "execution_count": 22,
   "metadata": {
    "collapsed": false
   },
   "outputs": [
    {
     "data": {
      "text/plain": [
       "'Note7永久停產\\u3000三星早盤再跌3.3%'"
      ]
     },
     "execution_count": 22,
     "metadata": {},
     "output_type": "execute_result"
    }
   ],
   "source": [
    "url = 'http://www.appledaily.com.tw/realtimenews/article/finance/20161012/966376/Note7%E6%B0%B8%E4%B9%85%E5%81%9C%E7%94%A2%E3%80%80%E4%B8%89%E6%98%9F%E6%97%A9%E7%9B%A4%E5%86%8D%E8%B7%8C3.3'\n",
    "detail = pageDetail(url)\n",
    "detail['title']"
   ]
  },
  {
   "cell_type": "markdown",
   "metadata": {},
   "source": [
    "## 字典"
   ]
  },
  {
   "cell_type": "code",
   "execution_count": 14,
   "metadata": {
    "collapsed": false
   },
   "outputs": [
    {
     "name": "stdout",
     "output_type": "stream",
     "text": [
      "{'a': 100, 'b': 'yes', 'c': 0.98}\n",
      "dict_keys(['a', 'b', 'c'])\n",
      "dict_values([100, 'yes', 0.98])\n"
     ]
    }
   ],
   "source": [
    "#declare dictionary\n",
    "dic={'a':100,'b':\"yes\",'c':0.98}\n",
    "print(dic)\n",
    "\n",
    "#get keys in dictionary\n",
    "print(dic.keys())\n",
    "\n",
    "#get values in dictionary\n",
    "print(dic.values())\n"
   ]
  },
  {
   "cell_type": "code",
   "execution_count": 15,
   "metadata": {
    "collapsed": false
   },
   "outputs": [
    {
     "name": "stdout",
     "output_type": "stream",
     "text": [
      "100\n",
      "100\n"
     ]
    }
   ],
   "source": [
    "#get value of given key\n",
    "print(dic['a'])\n",
    "\n",
    "#get value of given key\n",
    "print(dic.get('a'))"
   ]
  },
  {
   "cell_type": "code",
   "execution_count": 16,
   "metadata": {
    "collapsed": false
   },
   "outputs": [
    {
     "ename": "KeyError",
     "evalue": "'d'",
     "output_type": "error",
     "traceback": [
      "\u001b[1;31m---------------------------------------------------------------------------\u001b[0m",
      "\u001b[1;31mKeyError\u001b[0m                                  Traceback (most recent call last)",
      "\u001b[1;32m<ipython-input-16-dfc072d7bfdf>\u001b[0m in \u001b[0;36m<module>\u001b[1;34m()\u001b[0m\n\u001b[0;32m      1\u001b[0m \u001b[1;31m#get value of given key\u001b[0m\u001b[1;33m\u001b[0m\u001b[1;33m\u001b[0m\u001b[0m\n\u001b[1;32m----> 2\u001b[1;33m \u001b[0mprint\u001b[0m\u001b[1;33m(\u001b[0m\u001b[0mdic\u001b[0m\u001b[1;33m[\u001b[0m\u001b[1;34m'd'\u001b[0m\u001b[1;33m]\u001b[0m\u001b[1;33m)\u001b[0m\u001b[1;33m\u001b[0m\u001b[0m\n\u001b[0m\u001b[0;32m      3\u001b[0m \u001b[1;33m\u001b[0m\u001b[0m\n",
      "\u001b[1;31mKeyError\u001b[0m: 'd'"
     ]
    }
   ],
   "source": [
    "#get value of given key\n",
    "print(dic['d'])"
   ]
  },
  {
   "cell_type": "code",
   "execution_count": 18,
   "metadata": {
    "collapsed": false
   },
   "outputs": [
    {
     "name": "stdout",
     "output_type": "stream",
     "text": [
      "None\n",
      "qoo\n"
     ]
    }
   ],
   "source": [
    "#get value of given key\n",
    "print(dic.get('d'))\n",
    "\n",
    "print(dic.get('d', 'qoo'))"
   ]
  },
  {
   "cell_type": "code",
   "execution_count": 19,
   "metadata": {
    "collapsed": false
   },
   "outputs": [
    {
     "name": "stdout",
     "output_type": "stream",
     "text": [
      "{'a': 100, 'b': 'yes', 'c': 0.98, 'd': 'new'}\n"
     ]
    }
   ],
   "source": [
    "#add entry into dictionary\n",
    "dic['d']='new'\n",
    "print(dic)"
   ]
  },
  {
   "cell_type": "code",
   "execution_count": 20,
   "metadata": {
    "collapsed": false
   },
   "outputs": [
    {
     "name": "stdout",
     "output_type": "stream",
     "text": [
      "{'e': 123, 'f': 456, 'd': 999, 'a': 100, 'b': 'yes', 'c': 0.98}\n"
     ]
    }
   ],
   "source": [
    "#add entry into dictionary\n",
    "dic.update({'d':999,'e':123, 'f':456})\n",
    "print(dic)"
   ]
  },
  {
   "cell_type": "code",
   "execution_count": 21,
   "metadata": {
    "collapsed": false
   },
   "outputs": [
    {
     "name": "stdout",
     "output_type": "stream",
     "text": [
      "e 123\n",
      "f 456\n",
      "d 999\n",
      "a 100\n",
      "b yes\n",
      "c 0.98\n"
     ]
    }
   ],
   "source": [
    "# iter the dictionary\n",
    "for key in dic:\n",
    "    print(key,dic[key])"
   ]
  },
  {
   "cell_type": "markdown",
   "metadata": {},
   "source": [
    "## 取得頁面連結片段"
   ]
  },
  {
   "cell_type": "code",
   "execution_count": 33,
   "metadata": {
    "collapsed": false
   },
   "outputs": [
    {
     "name": "stdout",
     "output_type": "stream",
     "text": [
      "http://www.appledaily.com.tw/realtimenews/article/local/20161012/966320/【有碼救援片】短裙辣妹躲橋墩哭哭　獲救上岸泣不成聲\n",
      "http://www.appledaily.com.tw/realtimenews/article/finance/20161012/966393/蘋果將於深圳設研發中心　緊密結合富士康\n",
      "http://www.appledaily.com.tw/realtimenews/article/life/20161012/966399/產油國減產油價漲　下周汽、柴油估漲0.2元\n",
      "http://www.appledaily.com.tw/realtimenews/article/local/20161012/966321/【驚險片】宜蘭漁船海上竄火　1漁民灼傷送醫\n",
      "http://www.appledaily.com.tw/realtimenews/article/politics/20161012/966389/【數位時代】取代E-mail！史上成長最快的企業軟體Slack\n",
      "http://www.appledaily.com.tw/realtimenews/article/3c/20161012/966355/PSVR明上市對決HTCGoogle\n",
      "http://www.appledaily.com.tw/realtimenews/article/finance/20161012/966384/【財訊】錸德小金雞連賠16年...從賠錢貨到世界第一\n",
      "http://www.appledaily.com.tw/realtimenews/article/finance/20161012/966390/蘋概股力撐　台股黑翻紅力守9200點\n",
      "http://www.appledaily.com.tw/realtimenews/article/nextmag/20161012/966150/【壹週刊】楊丞琳大崩潰談對爸爸的遺憾\n",
      "http://www.appledaily.com.tw/realtimenews/article/entertainment/20161012/966134/【特企】偶像完美形象都靠她?天后御用彩妝師首度公開後台秘辛！\n",
      "http://www.appledaily.com.tw/realtimenews/article/sports/20161012/966334/【更新】林書豪先發轟16分　籃網輸熱火21分\n",
      "http://www.appledaily.com.tw/realtimenews/article/international/20161012/966377/【央廣RTI】出來混總要還的川普各項民調皆落後\n",
      "http://www.appledaily.com.tw/realtimenews/article/life/20161012/966387/​天氣變冷　蛇反而容易來你家報到\n",
      "http://www.appledaily.com.tw/realtimenews/article/entertainment/20161012/966207/【狗仔偷拍片】浩角阿翔背著妻兒吞雲吐霧　剛唱過反菸活動囧翻\n",
      "http://www.appledaily.com.tw/realtimenews/article/life/20161012/966385/機車安全帽與護目鏡抽檢　品質全合格\n",
      "http://www.appledaily.com.tw/realtimenews/article/international/20161012/966380/【央廣RTI】和平協議破局各懷鬼胎的敘利亞內戰無寧日\n",
      "http://www.appledaily.com.tw/realtimenews/article/finance/20161012/966383/誰把台股餅變小了？老謝：官僚體系害的！\n",
      "http://www.appledaily.com.tw/realtimenews/article/international/20161012/966378/【央廣RTI】眾叛親離川普：不在乎\n",
      "http://www.appledaily.com.tw/realtimenews/article/sports/20161012/966381/紐約布魯克林居大不易　林書豪住所鬧中取靜\n",
      "http://www.appledaily.com.tw/realtimenews/article/local/20161012/966382/惡劣！趁你抓寶不注意　砸磚破窗偷5車\n",
      "http://www.appledaily.com.tw/realtimenews/article/international/20161012/966375/外國鄉民惡搞爆破圖　酸死三星Note7\n",
      "http://www.appledaily.com.tw/realtimenews/article/international/20161012/966305/【驚魂片】王效蘭巴黎被打劫　盜走715萬財物\n",
      "http://www.appledaily.com.tw/realtimenews/article/international/20161012/966302/展王室魅力　英凱特王妃首度單獨海外出訪\n",
      "http://www.appledaily.com.tw/realtimenews/article/nextmag/20161012/965884/【壹週刊】網紅正妹教妳如何把男友壓落底　\n",
      "http://www.appledaily.com.tw/realtimenews/article/finance/20161012/966376/Note7永久停產　三星早盤再跌3.3\n",
      "http://www.appledaily.com.tw/realtimenews/article/sports/20161012/966374/老將阿特利致勝安打　道奇第5戰決勝國民\n",
      "http://www.appledaily.com.tw/realtimenews/article/3c/20161012/966368/擔心Note7回收又爆　三星防火回收盒曝光\n",
      "http://www.appledaily.com.tw/realtimenews/article/nextmag/20161012/965974/【壹週刊】他挖掘蔡阿嘎現在要海選網紅\n",
      "http://www.appledaily.com.tw/realtimenews/article/international/20161012/966348/【衰神三星】停產Note7、專利官司連敗　星粉：好產品會繼續買\n",
      "http://www.appledaily.com.tw/realtimenews/article/international/20161012/966360/可憐女童遇淫師遭性侵　日記寫下「被脫褲」\n"
     ]
    }
   ],
   "source": [
    "domain = 'http://www.appledaily.com.tw'\n",
    "res  = requests.get('http://www.appledaily.com.tw/realtimenews/section/new/')\n",
    "soup = BeautifulSoup(res.text, 'html.parser')\n",
    "for rtddt in soup.select('li.rtddt'):\n",
    "    if domain not in rtddt.select('a')[0]['href']:\n",
    "        print(domain + rtddt.select('a')[0]['href'])\n",
    "    else:\n",
    "        print(rtddt.select('a')[0]['href']) "
   ]
  },
  {
   "cell_type": "markdown",
   "metadata": {},
   "source": [
    "## 產生分頁片段"
   ]
  },
  {
   "cell_type": "code",
   "execution_count": 37,
   "metadata": {
    "collapsed": false
   },
   "outputs": [
    {
     "name": "stdout",
     "output_type": "stream",
     "text": [
      "http://www.appledaily.com.tw/realtimenews/section/new/1\n",
      "http://www.appledaily.com.tw/realtimenews/section/new/2\n",
      "http://www.appledaily.com.tw/realtimenews/section/new/3\n",
      "http://www.appledaily.com.tw/realtimenews/section/new/4\n",
      "http://www.appledaily.com.tw/realtimenews/section/new/5\n",
      "http://www.appledaily.com.tw/realtimenews/section/new/6\n",
      "http://www.appledaily.com.tw/realtimenews/section/new/7\n",
      "http://www.appledaily.com.tw/realtimenews/section/new/8\n",
      "http://www.appledaily.com.tw/realtimenews/section/new/9\n"
     ]
    }
   ],
   "source": [
    "newsurl = 'http://www.appledaily.com.tw/realtimenews/section/new/{}'\n",
    "# for(int i = 1; i < 10 ; i++)\n",
    "for i in range(1,10): \n",
    "    print(newsurl.format(i))"
   ]
  },
  {
   "cell_type": "markdown",
   "metadata": {},
   "source": [
    "## 取得多頁蘋果新聞"
   ]
  },
  {
   "cell_type": "code",
   "execution_count": 48,
   "metadata": {
    "collapsed": false
   },
   "outputs": [],
   "source": [
    "domain  = 'http://www.appledaily.com.tw'\n",
    "newsurl = 'http://www.appledaily.com.tw/realtimenews/section/new/{}'\n",
    "\n",
    "newsary = []\n",
    "\n",
    "# 產生分頁連結\n",
    "for page in range(1,3): \n",
    "    #取得分頁HTML\n",
    "    section = requests.get(newsurl.format(page))\n",
    "    soup    = BeautifulSoup(section.text, 'html.parser')\n",
    "    \n",
    "    #取得每分頁中的內文連結\n",
    "    for rtddt in soup.select('li.rtddt'):\n",
    "        # 使用字典整理資料\n",
    "        dic  = {}\n",
    "        \n",
    "        #取得類別\n",
    "        category = rtddt.select('h2')[0].text\n",
    "        \n",
    "        # 取得聯結\n",
    "        link     = rtddt.select('a')[0]['href']\n",
    "        #檢視連結中有沒有包含domain\n",
    "        if domain not in link:\n",
    "            link = domain + link\n",
    "            \n",
    "        #增添link 與category\n",
    "        dic['link'] = link\n",
    "        dic['category'] = category\n",
    "        \n",
    "        # 呼叫pageDetail 函式更新內文內容\n",
    "        dic.update(pageDetail(dic['link']))\n",
    "        \n",
    "        #將字典加入list 之中\n",
    "        newsary.append(dic)\n",
    "            "
   ]
  },
  {
   "cell_type": "code",
   "execution_count": 50,
   "metadata": {
    "collapsed": false
   },
   "outputs": [],
   "source": [
    "#newsary"
   ]
  },
  {
   "cell_type": "code",
   "execution_count": null,
   "metadata": {
    "collapsed": true
   },
   "outputs": [],
   "source": []
  }
 ],
 "metadata": {
  "anaconda-cloud": {},
  "kernelspec": {
   "display_name": "Python [Root]",
   "language": "python",
   "name": "Python [Root]"
  },
  "language_info": {
   "codemirror_mode": {
    "name": "ipython",
    "version": 3
   },
   "file_extension": ".py",
   "mimetype": "text/x-python",
   "name": "python",
   "nbconvert_exporter": "python",
   "pygments_lexer": "ipython3",
   "version": "3.5.2"
  }
 },
 "nbformat": 4,
 "nbformat_minor": 0
}
