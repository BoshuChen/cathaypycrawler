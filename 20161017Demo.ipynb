{
 "cells": [
  {
   "cell_type": "markdown",
   "metadata": {},
   "source": [
    "## 抓取PTT Creditcard 板"
   ]
  },
  {
   "cell_type": "code",
   "execution_count": 2,
   "metadata": {
    "collapsed": false
   },
   "outputs": [],
   "source": [
    "import requests\n",
    "res = requests.get('https://www.ptt.cc/bbs/creditcard/index.html')\n",
    "#print(res.text)"
   ]
  },
  {
   "cell_type": "code",
   "execution_count": 9,
   "metadata": {
    "collapsed": false
   },
   "outputs": [
    {
     "name": "stdout",
     "output_type": "stream",
     "text": [
      "[心得] 國泰長榮極致無限卡核卡 10/17 ThreeComma 6\n",
      "[問題] 樂天最新優惠活動 10/17 LBJKDPG 7\n",
      "[心得] 富邦/數位生活/御璽/小白 核卡 10/17 rjhowmanyo 3\n",
      "(本文已被刪除) [kathyandyy] 10/17 - \n",
      "[問題] 酷玩卡值得辦嗎？ 10/17 daniel820 16\n",
      "Re: [心得] 搭乘計程車 刷信用卡優惠整理 10/17 neon7134 11\n",
      "[心得] 永豐 Me Card 鈦金卡核卡 10/17 Robbins 9\n",
      "[問題] 國泰亞萬卡在昇恆昌 10/17 ohhenry 2\n",
      "[心得] 在冰島使用花旗現金回饋白金卡分享 10/17 ppsj 15\n",
      "Re:  [心得] 在冰島使用花旗現金回饋白金卡分享 10/17 siriusc 10\n",
      "[問題] 秀泰聯名卡後續？ 10/17 n1lk5g2 6\n",
      "(本文已被刪除) [yungshengwu] 10/17 - 1\n",
      "=== 卡板板規 V5.0 === (修訂日期：2012/10/02) 10/02 Heumay \n",
      "[公告] 置底檢舉專區 3/05 bboy0720 爆\n",
      "[情報] 各家銀行0800免付費電話 3/09 MoonAthenaX 34\n"
     ]
    }
   ],
   "source": [
    "from bs4 import BeautifulSoup\n",
    "soup = BeautifulSoup(res.text, 'html.parser')\n",
    "for rent in soup.select('.r-ent'):\n",
    "    #print(rent)\n",
    "    #print('=======================')\n",
    "    title  = rent.select('.title')[0].text.strip()\n",
    "    date   = rent.select('.date')[0].text.strip()\n",
    "    author = rent.select('.author')[0].text.strip()\n",
    "    nrec  = rent.select('.nrec')[0].text.strip()\n",
    "    print(title, date, author, nrec)"
   ]
  },
  {
   "cell_type": "markdown",
   "metadata": {},
   "source": [
    "## 抓取PTT Gossiping 板 (方法一)"
   ]
  },
  {
   "cell_type": "code",
   "execution_count": 12,
   "metadata": {
    "collapsed": false
   },
   "outputs": [],
   "source": [
    "import requests\n",
    "cookies = {\n",
    " 'over18':'1'   \n",
    "}\n",
    "res = requests.get('https://www.ptt.cc/bbs/Gossiping/index.html', cookies = cookies)\n",
    "#print(res.text)"
   ]
  },
  {
   "cell_type": "markdown",
   "metadata": {},
   "source": [
    "## 抓取PTT Gossiping 板 (方法二)"
   ]
  },
  {
   "cell_type": "code",
   "execution_count": 16,
   "metadata": {
    "collapsed": false
   },
   "outputs": [],
   "source": [
    "import requests\n",
    "payload ={\n",
    "'from':'/bbs/Gossiping/index.html',\n",
    "'yes':'yes'    \n",
    "}\n",
    "rs   = requests.session()\n",
    "res  = rs.post('https://www.ptt.cc/ask/over18', data = payload)\n",
    "res2 = rs.get('https://www.ptt.cc/bbs/Gossiping/index.html')\n",
    "#print(res2.text)"
   ]
  }
 ],
 "metadata": {
  "kernelspec": {
   "display_name": "Python [Root]",
   "language": "python",
   "name": "Python [Root]"
  },
  "language_info": {
   "codemirror_mode": {
    "name": "ipython",
    "version": 3
   },
   "file_extension": ".py",
   "mimetype": "text/x-python",
   "name": "python",
   "nbconvert_exporter": "python",
   "pygments_lexer": "ipython3",
   "version": "3.5.2"
  }
 },
 "nbformat": 4,
 "nbformat_minor": 0
}
