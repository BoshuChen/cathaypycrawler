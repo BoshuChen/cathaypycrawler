{
 "cells": [
  {
   "cell_type": "markdown",
   "metadata": {},
   "source": [
    "## 自由時報爬蟲"
   ]
  },
  {
   "cell_type": "code",
   "execution_count": 2,
   "metadata": {
    "collapsed": false
   },
   "outputs": [],
   "source": [
    "import requests\n",
    "res = requests.get('http://news.ltn.com.tw/list/BreakingNews')\n",
    "#print(res.text)"
   ]
  },
  {
   "cell_type": "code",
   "execution_count": 3,
   "metadata": {
    "collapsed": true
   },
   "outputs": [],
   "source": [
    "from bs4 import BeautifulSoup\n",
    "soup = BeautifulSoup(res.text, 'html.parser')"
   ]
  },
  {
   "cell_type": "code",
   "execution_count": 13,
   "metadata": {
    "collapsed": false
   },
   "outputs": [
    {
     "name": "stdout",
     "output_type": "stream",
     "text": [
      "黃志芳駐星生變？李大維：目前沒有黃出使規劃 2016-10-11 09:55 http://news.ltn.com.tw/news/politics/breakingnews/1852310\n",
      "===============================\n",
      "老虎伍茲還沒準備好 臨時退出PGA開幕戰 2016-10-11 09:53 http://sports.ltn.com.tw/news/breakingnews/1852309\n",
      "===============================\n",
      "不只 Galaxy Note 7 會爆？iPhone 6s、iPhone 7 也傳炸機意外！ 2016-10-11 09:53 http://3c.ltn.com.tw/news/26790\n",
      "===============================\n",
      "MLB》老爹平基特紀錄 最後打席網友熱議 2016-10-11 09:51 http://sports.ltn.com.tw/news/breakingnews/1852259\n",
      "===============================\n",
      "金鐘大贏家！李天柱「反同」紅上外媒 2016-10-11 09:50 http://ent.ltn.com.tw/news/breakingnews/1852243\n",
      "===============================\n",
      "「國慶」感言 彭文正：我們慶祝的，是個已經結束的國家國慶 2016-10-11 09:48 http://ent.ltn.com.tw/news/breakingnews/1852304\n",
      "===============================\n",
      "MLB》就算紅襪遭淘汰  總教練法瑞爾的地位還是穩 2016-10-11 09:47 http://sports.ltn.com.tw/news/breakingnews/1852272\n",
      "===============================\n",
      "夜店女王生混血兒   自爆借種不被婚姻束縛 2016-10-11 09:46 http://ent.ltn.com.tw/news/breakingnews/1852209\n",
      "===============================\n",
      "裘莉的億萬新宅 隱蔽到Google街景上都找不到！ 2016-10-11 09:45 http://ent.ltn.com.tw/news/breakingnews/1852265\n",
      "===============================\n",
      "NBA》國王簽下球衣廣告合約  增加4.65億元收入 2016-10-11 09:45 http://sports.ltn.com.tw/news/breakingnews/1852294\n",
      "===============================\n",
      "豪雨特報解除 鄭明典也鬆口氣 2016-10-11 09:44 http://news.ltn.com.tw/news/life/breakingnews/1852287\n",
      "===============================\n",
      "NBA》杜蘭特積極加強防守 柯爾：這方面他很有潛力 2016-10-11 09:43 http://sports.ltn.com.tw/news/breakingnews/1852237\n",
      "===============================\n",
      "醜聞重創形象 川普民調落後幅度達兩位數 2016-10-11 09:42 http://news.ltn.com.tw/news/world/breakingnews/1852284\n",
      "===============================\n",
      "10/11重要財經新聞一覽 2016-10-11 09:41 http://news.ltn.com.tw/news/business/breakingnews/1852264\n",
      "===============================\n",
      "無尾熊爺爺「派翠克」高齡19歲逝世 2016-10-11 09:39 http://news.ltn.com.tw/news/life/breakingnews/1852283\n",
      "===============================\n",
      "台化重大訊息公告  彰化廠三座汽電共生機組已停車 2016-10-11 09:36 http://news.ltn.com.tw/news/business/breakingnews/1852295\n",
      "===============================\n",
      "台股早盤站上9300點 創今年新高 2016-10-11 09:34 http://news.ltn.com.tw/news/business/breakingnews/1852300\n",
      "===============================\n",
      "台積電開盤股價191元創新高  市值挑戰5兆元 2016-10-11 09:30 http://news.ltn.com.tw/news/business/breakingnews/1852279\n",
      "===============================\n",
      "許飛龍請辭監察人  樂陞股價跌停 2016-10-11 09:30 http://news.ltn.com.tw/news/business/breakingnews/1852282\n",
      "===============================\n",
      "國台辦批台灣走邪路 林全：非常可惜 2016-10-11 09:28 http://news.ltn.com.tw/news/politics/breakingnews/1852285\n",
      "===============================\n",
      "偵查隊長臉書PO文遭詐14萬美元…嚇到同事 2016-10-11 09:27 http://news.ltn.com.tw/news/society/breakingnews/1852274\n",
      "===============================\n",
      "李晨膽大包天 爆料范冰冰喜歡玩ＸＸ 2016-10-11 09:22 http://ent.ltn.com.tw/news/breakingnews/1852273\n",
      "===============================\n",
      "與金陽變淡   郭書瑤坦承問題出在... 2016-10-11 09:18 http://ent.ltn.com.tw/news/breakingnews/1852249\n",
      "===============================\n",
      "新版與舊版用戶都注意！三星：快把 Galaxy Note 7 關機！ 2016-10-11 09:17 http://3c.ltn.com.tw/news/26789\n",
      "===============================\n"
     ]
    }
   ],
   "source": [
    "for li in soup.select('li.lipic'):\n",
    "    #print(li)\n",
    "    time = li.select('span')[0].text\n",
    "    title = li.select('a.picword')[0].text\n",
    "    link = li.select('a.picword')[0]['href']\n",
    "    print(title, time, link)\n",
    "    print('===============================')"
   ]
  },
  {
   "cell_type": "code",
   "execution_count": null,
   "metadata": {
    "collapsed": true
   },
   "outputs": [],
   "source": []
  }
 ],
 "metadata": {
  "anaconda-cloud": {},
  "kernelspec": {
   "display_name": "Python [Root]",
   "language": "python",
   "name": "Python [Root]"
  },
  "language_info": {
   "codemirror_mode": {
    "name": "ipython",
    "version": 3
   },
   "file_extension": ".py",
   "mimetype": "text/x-python",
   "name": "python",
   "nbconvert_exporter": "python",
   "pygments_lexer": "ipython3",
   "version": "3.5.2"
  }
 },
 "nbformat": 4,
 "nbformat_minor": 0
}
