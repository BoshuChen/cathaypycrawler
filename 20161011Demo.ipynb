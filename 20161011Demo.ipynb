{
 "cells": [
  {
   "cell_type": "markdown",
   "metadata": {},
   "source": [
    "## 自由時報爬蟲"
   ]
  },
  {
   "cell_type": "code",
   "execution_count": 2,
   "metadata": {
    "collapsed": false
   },
   "outputs": [],
   "source": [
    "import requests\n",
    "res = requests.get('http://news.ltn.com.tw/list/BreakingNews')\n",
    "#print(res.text)"
   ]
  },
  {
   "cell_type": "code",
   "execution_count": 3,
   "metadata": {
    "collapsed": true
   },
   "outputs": [],
   "source": [
    "from bs4 import BeautifulSoup\n",
    "soup = BeautifulSoup(res.text, 'html.parser')"
   ]
  },
  {
   "cell_type": "code",
   "execution_count": 13,
   "metadata": {
    "collapsed": false
   },
   "outputs": [
    {
     "name": "stdout",
     "output_type": "stream",
     "text": [
      "黃志芳駐星生變？李大維：目前沒有黃出使規劃 2016-10-11 09:55 http://news.ltn.com.tw/news/politics/breakingnews/1852310\n",
      "===============================\n",
      "老虎伍茲還沒準備好 臨時退出PGA開幕戰 2016-10-11 09:53 http://sports.ltn.com.tw/news/breakingnews/1852309\n",
      "===============================\n",
      "不只 Galaxy Note 7 會爆？iPhone 6s、iPhone 7 也傳炸機意外！ 2016-10-11 09:53 http://3c.ltn.com.tw/news/26790\n",
      "===============================\n",
      "MLB》老爹平基特紀錄 最後打席網友熱議 2016-10-11 09:51 http://sports.ltn.com.tw/news/breakingnews/1852259\n",
      "===============================\n",
      "金鐘大贏家！李天柱「反同」紅上外媒 2016-10-11 09:50 http://ent.ltn.com.tw/news/breakingnews/1852243\n",
      "===============================\n",
      "「國慶」感言 彭文正：我們慶祝的，是個已經結束的國家國慶 2016-10-11 09:48 http://ent.ltn.com.tw/news/breakingnews/1852304\n",
      "===============================\n",
      "MLB》就算紅襪遭淘汰  總教練法瑞爾的地位還是穩 2016-10-11 09:47 http://sports.ltn.com.tw/news/breakingnews/1852272\n",
      "===============================\n",
      "夜店女王生混血兒   自爆借種不被婚姻束縛 2016-10-11 09:46 http://ent.ltn.com.tw/news/breakingnews/1852209\n",
      "===============================\n",
      "裘莉的億萬新宅 隱蔽到Google街景上都找不到！ 2016-10-11 09:45 http://ent.ltn.com.tw/news/breakingnews/1852265\n",
      "===============================\n",
      "NBA》國王簽下球衣廣告合約  增加4.65億元收入 2016-10-11 09:45 http://sports.ltn.com.tw/news/breakingnews/1852294\n",
      "===============================\n",
      "豪雨特報解除 鄭明典也鬆口氣 2016-10-11 09:44 http://news.ltn.com.tw/news/life/breakingnews/1852287\n",
      "===============================\n",
      "NBA》杜蘭特積極加強防守 柯爾：這方面他很有潛力 2016-10-11 09:43 http://sports.ltn.com.tw/news/breakingnews/1852237\n",
      "===============================\n",
      "醜聞重創形象 川普民調落後幅度達兩位數 2016-10-11 09:42 http://news.ltn.com.tw/news/world/breakingnews/1852284\n",
      "===============================\n",
      "10/11重要財經新聞一覽 2016-10-11 09:41 http://news.ltn.com.tw/news/business/breakingnews/1852264\n",
      "===============================\n",
      "無尾熊爺爺「派翠克」高齡19歲逝世 2016-10-11 09:39 http://news.ltn.com.tw/news/life/breakingnews/1852283\n",
      "===============================\n",
      "台化重大訊息公告  彰化廠三座汽電共生機組已停車 2016-10-11 09:36 http://news.ltn.com.tw/news/business/breakingnews/1852295\n",
      "===============================\n",
      "台股早盤站上9300點 創今年新高 2016-10-11 09:34 http://news.ltn.com.tw/news/business/breakingnews/1852300\n",
      "===============================\n",
      "台積電開盤股價191元創新高  市值挑戰5兆元 2016-10-11 09:30 http://news.ltn.com.tw/news/business/breakingnews/1852279\n",
      "===============================\n",
      "許飛龍請辭監察人  樂陞股價跌停 2016-10-11 09:30 http://news.ltn.com.tw/news/business/breakingnews/1852282\n",
      "===============================\n",
      "國台辦批台灣走邪路 林全：非常可惜 2016-10-11 09:28 http://news.ltn.com.tw/news/politics/breakingnews/1852285\n",
      "===============================\n",
      "偵查隊長臉書PO文遭詐14萬美元…嚇到同事 2016-10-11 09:27 http://news.ltn.com.tw/news/society/breakingnews/1852274\n",
      "===============================\n",
      "李晨膽大包天 爆料范冰冰喜歡玩ＸＸ 2016-10-11 09:22 http://ent.ltn.com.tw/news/breakingnews/1852273\n",
      "===============================\n",
      "與金陽變淡   郭書瑤坦承問題出在... 2016-10-11 09:18 http://ent.ltn.com.tw/news/breakingnews/1852249\n",
      "===============================\n",
      "新版與舊版用戶都注意！三星：快把 Galaxy Note 7 關機！ 2016-10-11 09:17 http://3c.ltn.com.tw/news/26789\n",
      "===============================\n"
     ]
    }
   ],
   "source": [
    "for li in soup.select('li.lipic'):\n",
    "    #print(li)\n",
    "    time = li.select('span')[0].text\n",
    "    title = li.select('a.picword')[0].text\n",
    "    link = li.select('a.picword')[0]['href']\n",
    "    print(title, time, link)\n",
    "    print('===============================')"
   ]
  },
  {
   "cell_type": "markdown",
   "metadata": {},
   "source": [
    "## 正規表達法"
   ]
  },
  {
   "cell_type": "code",
   "execution_count": 15,
   "metadata": {
    "collapsed": false
   },
   "outputs": [],
   "source": [
    "demo = 'Hi i am david, my phone number is 0912345678, hahaha'\n",
    "'0912345678' in demo\n",
    "\n",
    "p1 = '0912345678'\n",
    "p2 = '0912-345-678'\n",
    "p3 = '0912-345678'\n"
   ]
  },
  {
   "cell_type": "code",
   "execution_count": 20,
   "metadata": {
    "collapsed": false
   },
   "outputs": [
    {
     "name": "stdout",
     "output_type": "stream",
     "text": [
      "0\n",
      "3\n",
      "3\n",
      "3\n"
     ]
    }
   ],
   "source": [
    "import re\n",
    "m = re.search('0','0')\n",
    "print(m.group(0))\n",
    "\n",
    "m = re.search('[0123456789]','3')\n",
    "print(m.group(0))\n",
    "\n",
    "m = re.search('[0-9]','3') #[0123456789] = [0-9]\n",
    "print(m.group(0))\n",
    "\n",
    "m = re.search('\\d','3') # \\d = [0-9]\n",
    "print(m.group(0))"
   ]
  },
  {
   "cell_type": "code",
   "execution_count": 28,
   "metadata": {
    "collapsed": false
   },
   "outputs": [
    {
     "name": "stdout",
     "output_type": "stream",
     "text": [
      "a\n",
      "a\n",
      "D\n",
      "3\n",
      "3\n",
      "%\n"
     ]
    }
   ],
   "source": [
    "m = re.search('[abcdefghijklmnopqrstuvwxyz]','a')\n",
    "print(m.group(0))\n",
    "\n",
    "m = re.search('[a-z]','a') #[a-z]  == [abcdefghijklmnopqrstuvwxyz]\n",
    "print(m.group(0))\n",
    "\n",
    "m = re.search('[a-zA-Z]','D')\n",
    "print(m.group(0))\n",
    "\n",
    "m = re.search('[a-zA-Z0-9]','3')\n",
    "print(m.group(0))\n",
    "\n",
    "m = re.search('\\w','3') #\\w == [a-zA-Z0-9]\n",
    "print(m.group(0))\n",
    "\n",
    "m = re.search('.','%') # .  match any symbol\n",
    "print(m.group(0))"
   ]
  },
  {
   "cell_type": "code",
   "execution_count": 32,
   "metadata": {
    "collapsed": false
   },
   "outputs": [
    {
     "name": "stdout",
     "output_type": "stream",
     "text": [
      "0912345678\n",
      "021112222\n",
      "021112222\n",
      "021112222\n"
     ]
    }
   ],
   "source": [
    "m = re.search('\\d{10}', '0912345678') # match exact 10\n",
    "print(m.group(0))\n",
    "\n",
    "m = re.search('\\d{6,10}', '021112222') #{ min , max }\n",
    "print(m.group(0))\n",
    "\n",
    "\n",
    "m = re.search('\\d{0,}', '021112222') #{ min , max }\n",
    "print(m.group(0))\n",
    "\n",
    "m = re.search('\\d*', '021112222') # {0,} == *\n",
    "print(m.group(0))\n",
    "\n",
    "m = re.search('\\d{1,}', '021112222') #{ min , max }\n",
    "print(m.group(0))\n",
    "\n",
    "m = re.search('\\d+', '021112222') #{1,} == +\n",
    "print(m.group(0))"
   ]
  },
  {
   "cell_type": "code",
   "execution_count": 36,
   "metadata": {
    "collapsed": false
   },
   "outputs": [
    {
     "name": "stdout",
     "output_type": "stream",
     "text": [
      "0912345678\n",
      "0912-345-678\n",
      "0912-345678\n"
     ]
    }
   ],
   "source": [
    "phones = ['0912345678','0912-345-678','0912-345678']\n",
    "for p in phones:\n",
    "    #m = re.search('\\d{10}',p) # 09123456789\n",
    "    #m = re.search('\\d{4}-{0,1}\\d{3}-{0,1}\\d{3}',p)\n",
    "    #m = re.search('\\d{4}-?\\d{3}-?\\d{3}',p) # ? => {0,1}\n",
    "    m = re.search('09\\d{2}-?\\d{3}-?\\d{3}',p) # ? => {0,1}\n",
    "    print(m.group(0))\n"
   ]
  },
  {
   "cell_type": "code",
   "execution_count": 42,
   "metadata": {
    "collapsed": false
   },
   "outputs": [
    {
     "name": "stdout",
     "output_type": "stream",
     "text": [
      "david@largidata\n",
      "('david', 'largidata')\n",
      "david@largidata\n",
      "david\n",
      "largidata\n"
     ]
    }
   ],
   "source": [
    "import re\n",
    "m= re.match(r\"\\w+@\\w+\",\"david@largidata.com\")\n",
    "print(m.group(0))\n",
    "\n",
    "\n",
    "import re\n",
    "m= re.match(r\"(\\w+)@(\\w+)\",\"david@largidata.com\")\n",
    "print(m.groups())\n",
    "print(m.group(0))\n",
    "print(m.group(1))\n",
    "print(m.group(2))"
   ]
  },
  {
   "cell_type": "code",
   "execution_count": 45,
   "metadata": {
    "collapsed": false
   },
   "outputs": [
    {
     "name": "stdout",
     "output_type": "stream",
     "text": [
      "('david', 'largidata.com')\n"
     ]
    }
   ],
   "source": [
    "import re\n",
    "m= re.match(r\"([\\w.]+)@([\\w.]+)\",\"david@largidata.com\")\n",
    "print(m.groups())"
   ]
  },
  {
   "cell_type": "code",
   "execution_count": 49,
   "metadata": {
    "collapsed": false
   },
   "outputs": [
    {
     "name": "stdout",
     "output_type": "stream",
     "text": [
      "('1999', '5')\n"
     ]
    }
   ],
   "source": [
    "m = re.match('(\\d+)\\.(\\d+)','1999.5')# \\. excape .\n",
    "print(m.groups())"
   ]
  },
  {
   "cell_type": "code",
   "execution_count": 51,
   "metadata": {
    "collapsed": false
   },
   "outputs": [
    {
     "name": "stdout",
     "output_type": "stream",
     "text": [
      "David\n",
      "Chiu\n"
     ]
    }
   ],
   "source": [
    "m=re.match(r\"(\\w+) (\\w+)\",\"David Chiu\")\n",
    "print(m.group(1))\n",
    "print(m.group(2))"
   ]
  },
  {
   "cell_type": "code",
   "execution_count": 52,
   "metadata": {
    "collapsed": false
   },
   "outputs": [
    {
     "name": "stdout",
     "output_type": "stream",
     "text": [
      "David Chiu\n"
     ]
    }
   ],
   "source": [
    "m=re.match(r\"(?P<first_name>\\w+) (?P<last_name>\\w+)\",\"David Chiu\")\n",
    "print(m.group('first_name'),m.group('last_name'))"
   ]
  },
  {
   "cell_type": "code",
   "execution_count": 54,
   "metadata": {
    "collapsed": false
   },
   "outputs": [
    {
     "name": "stdout",
     "output_type": "stream",
     "text": [
      "file.txt root 10.0.0.1 ./\n"
     ]
    }
   ],
   "source": [
    "str1='scp file.txt root@10.0.0.1:./'\n",
    "m=re.search('^scp ([\\w\\.]+) (\\w+)@([\\w\\.]+):(.+)',str1)\n",
    "if m:\n",
    "    print(m.group(1),m.group(2),m.group(3),m.group(4))"
   ]
  },
  {
   "cell_type": "code",
   "execution_count": 59,
   "metadata": {
    "collapsed": false
   },
   "outputs": [
    {
     "data": {
      "text/plain": [
       "64"
      ]
     },
     "execution_count": 59,
     "metadata": {},
     "output_type": "execute_result"
    }
   ],
   "source": [
    "a = '人氣(64)'\n",
    "\n",
    "import re\n",
    "m = re.search('.+\\((\\d+)\\)', a)\n",
    "int(m.group(1))"
   ]
  },
  {
   "cell_type": "markdown",
   "metadata": {},
   "source": [
    "## 淘寶抓取"
   ]
  },
  {
   "cell_type": "code",
   "execution_count": 66,
   "metadata": {
    "collapsed": false
   },
   "outputs": [
    {
     "name": "stdout",
     "output_type": "stream",
     "text": [
      "博睿奇数码专营店 29.00\n",
      "xlevel旗舰店 138.00\n",
      "瑞弘轩数码专营店 78.00\n",
      "初心0611 58.00\n",
      "锐立数码旗舰店 19.90\n",
      "顺势潮品 38.00\n",
      "优乐锋数码专营店 10.00\n",
      "优乐锋数码专营店 98.00\n",
      "美壳壳旗舰店 89.00\n",
      "sprintfox旗舰店 5.00\n",
      "人情味的人 16.00\n",
      "esr旗舰店 79.00\n",
      "红硕旗舰店 20.00\n",
      "爱机数码专营店 66.00\n",
      "凡人数码专营店 6.00\n",
      "柯米数码专营店 35.00\n",
      "sunsky臻品 48.00\n",
      "芳沐数码专营店 68.00\n",
      "兴鸿数码专营店 19.00\n",
      "游戏数码零售批发店 25.00\n",
      "裘淑芬 96.00\n",
      "非尼膜属护天专卖店 89.00\n",
      "yabuca旗舰店 33.00\n",
      "非凡子墨 38.00\n",
      "风歌数码专营店 13.80\n",
      "艾美辰数码专营店 298.00\n",
      "豪酷数码 59.00\n",
      "智尚通讯 38.60\n",
      "hidog数码旗舰店 58.00\n",
      "米米啦啦哈 39.00\n",
      "rnx旗舰店 35.00\n",
      "柯米数码专营店 35.00\n",
      "uraman鸿运通盛专卖店 59.00\n",
      "时尚最前线999 36.60\n",
      "佳期若梦1992 10.00\n",
      "微康态数码专营店 12.90\n",
      "超级审美观 42.00\n",
      "壳壳先生 12.00\n",
      "senkang旗舰店 18.00\n",
      "前列线数码 45.00\n",
      "潮物贩壳 19.80\n",
      "ukkuer旗舰店 38.00\n",
      "my手机壳 50.00\n",
      "caojiazero 65.10\n",
      "华人数码配件 99.00\n",
      "jiayu8907 99.00\n",
      "ipod1985 12.00\n",
      "淘的小进 7.90\n",
      "可爱与漂亮 19.00\n",
      "骑猪漫舞 78.00\n",
      "丹老虎不是猫 42.00\n",
      "超级审美观 30.00\n",
      "caffrra卡弗拉旗舰店 89.00\n",
      "骑猪漫舞 68.00\n",
      "三星视界6 118.00\n",
      "时尚果粉 25.00\n",
      "球小李 72.00\n",
      "苹果低价风暴 38.00\n",
      "judy_ton 23.00\n",
      "lijian923 5.00\n"
     ]
    }
   ],
   "source": [
    "import requests\n",
    "import re\n",
    "import json\n",
    "res = requests.get('https://world.taobao.com/search/json.htm?navigator=all&_ksTS=1476157980189_41&spm=a21bp.7806943.a214x9l.2.7qFQBl&search_type=0&_input_charset=utf-8&json=on&q=iphone6%E6%89%8B%E6%9C%BA%E5%A3%B3&cna=s03pD3FNFVICAcqawB795I%201&callback=__jsonp_cb&abtest=_AB-LR517-LR854-LR895-PR517-PR854-PR895&nid=&type=&uniqpid=')\n",
    "m = re.search('if\\(window.__jsonp_cb\\)\\{__jsonp_cb\\((.+)\\)\\}',res.text)\n",
    "jd = json.loads(m.group(1))\n",
    "for item in jd['itemList']:\n",
    "    print(item['nick'], item['price'])"
   ]
  },
  {
   "cell_type": "code",
   "execution_count": null,
   "metadata": {
    "collapsed": true
   },
   "outputs": [],
   "source": []
  }
 ],
 "metadata": {
  "anaconda-cloud": {},
  "kernelspec": {
   "display_name": "Python [Root]",
   "language": "python",
   "name": "Python [Root]"
  },
  "language_info": {
   "codemirror_mode": {
    "name": "ipython",
    "version": 3
   },
   "file_extension": ".py",
   "mimetype": "text/x-python",
   "name": "python",
   "nbconvert_exporter": "python",
   "pygments_lexer": "ipython3",
   "version": "3.5.2"
  }
 },
 "nbformat": 4,
 "nbformat_minor": 0
}
