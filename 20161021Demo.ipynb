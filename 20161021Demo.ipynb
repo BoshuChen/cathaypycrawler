{
 "cells": [
  {
   "cell_type": "markdown",
   "metadata": {},
   "source": [
    "## 財報狗"
   ]
  },
  {
   "cell_type": "code",
   "execution_count": 4,
   "metadata": {
    "collapsed": false
   },
   "outputs": [],
   "source": [
    "import requests\n",
    "headers = {\n",
    "'X-Requested-With':'XMLHttpRequest',\n",
    "'User-Agent':'Mozilla/5.0 (Windows NT 6.1; WOW64) AppleWebKit/537.36 (KHTML, like Gecko) Chrome/53.0.2785.143 Safari/537.36'    \n",
    "    \n",
    "}\n",
    "res = requests.get('https://statementdog.com/analysis/analysis_ajax/2330/2011/1/2016/4/1?queried_by_user=false&_=1477013988030', headers = headers)\n",
    "#print(res.text)"
   ]
  },
  {
   "cell_type": "markdown",
   "metadata": {},
   "source": [
    "## 抓取公開資訊觀測站資料"
   ]
  },
  {
   "cell_type": "code",
   "execution_count": 9,
   "metadata": {
    "collapsed": false
   },
   "outputs": [],
   "source": [
    "import requests\n",
    "url = 'http://mops.twse.com.tw/mops/web/ajax_t163sb19'\n",
    "payload = {\n",
    "'encodeURIComponent':'1',\n",
    "'step'   :'1',\n",
    "'firstin':'1',\n",
    "'TYPEK'  :'sii',\n",
    "'code'   :'01',\n",
    "'year'   :'105',\n",
    "'season' :'01'\n",
    "}\n",
    "res = requests.post(url, data=payload)\n",
    "res.encoding = 'utf-8'\n",
    "#print(res.text)"
   ]
  },
  {
   "cell_type": "markdown",
   "metadata": {},
   "source": [
    "<table>\n",
    "    <tr> <th> col1 </th>   <th>  col2</th> </tr>\n",
    "    <tr> <td> A    </td>   <td>  1   </td> </tr>\n",
    "    <tr> <td> B    </td>   <td>  2   </td> </tr>\n",
    "</table>"
   ]
  },
  {
   "cell_type": "code",
   "execution_count": 11,
   "metadata": {
    "collapsed": true
   },
   "outputs": [],
   "source": [
    "# 透過Pands 讀取網頁資料\n",
    "import pandas\n",
    "dfs = pandas.read_html(res.text)"
   ]
  },
  {
   "cell_type": "code",
   "execution_count": 14,
   "metadata": {
    "collapsed": false
   },
   "outputs": [],
   "source": [
    "#取得 Data Frames 中的第一個Data Frame\n",
    "stockdf = dfs[0]"
   ]
  },
  {
   "cell_type": "code",
   "execution_count": 17,
   "metadata": {
    "collapsed": false
   },
   "outputs": [
    {
     "data": {
      "text/plain": [
       "Int64Index([0, 1, 2, 3, 4, 5, 6, 7, 8], dtype='int64')"
      ]
     },
     "execution_count": 17,
     "metadata": {},
     "output_type": "execute_result"
    }
   ],
   "source": [
    "# 欄位名稱\n",
    "stockdf.columns"
   ]
  },
  {
   "cell_type": "code",
   "execution_count": 16,
   "metadata": {
    "collapsed": false
   },
   "outputs": [
    {
     "data": {
      "text/plain": [
       "0         公司代號\n",
       "1         公司名稱\n",
       "2          產業別\n",
       "3    基本每股盈餘(元)\n",
       "4      普通股每股面額\n",
       "5         營業收入\n",
       "6         營業利益\n",
       "7     營業外收入及支出\n",
       "8         稅後淨利\n",
       "Name: 0, dtype: object"
      ]
     },
     "execution_count": 16,
     "metadata": {},
     "output_type": "execute_result"
    }
   ],
   "source": [
    "#抓取第 0列\n",
    "stockdf.iloc[0]"
   ]
  },
  {
   "cell_type": "code",
   "execution_count": 18,
   "metadata": {
    "collapsed": true
   },
   "outputs": [],
   "source": [
    "# 欄位名稱設為第一列\n",
    "stockdf.columns = stockdf.iloc[0]"
   ]
  },
  {
   "cell_type": "code",
   "execution_count": 22,
   "metadata": {
    "collapsed": false
   },
   "outputs": [
    {
     "data": {
      "text/plain": [
       "0     False\n",
       "1      True\n",
       "2      True\n",
       "3      True\n",
       "4      True\n",
       "5      True\n",
       "6     False\n",
       "7      True\n",
       "8      True\n",
       "9     False\n",
       "10    False\n",
       "Name: 公司代號, dtype: bool"
      ]
     },
     "execution_count": 22,
     "metadata": {},
     "output_type": "execute_result"
    }
   ],
   "source": [
    "# 使用正規表達法比對只有數字的資料\n",
    "stockdf['公司代號'].str.match('^\\d+')"
   ]
  },
  {
   "cell_type": "code",
   "execution_count": 24,
   "metadata": {
    "collapsed": false
   },
   "outputs": [],
   "source": [
    "# 將所有公司的財報取出來\n",
    "cement_industry = stockdf[stockdf['公司代號'].str.match('^\\d+')]"
   ]
  },
  {
   "cell_type": "code",
   "execution_count": 26,
   "metadata": {
    "collapsed": false
   },
   "outputs": [
    {
     "data": {
      "text/html": [
       "<div>\n",
       "<table border=\"1\" class=\"dataframe\">\n",
       "  <thead>\n",
       "    <tr style=\"text-align: right;\">\n",
       "      <th></th>\n",
       "      <th>公司代號</th>\n",
       "      <th>公司名稱</th>\n",
       "      <th>產業別</th>\n",
       "      <th>基本每股盈餘(元)</th>\n",
       "      <th>普通股每股面額</th>\n",
       "      <th>營業收入</th>\n",
       "      <th>營業利益</th>\n",
       "      <th>營業外收入及支出</th>\n",
       "      <th>稅後淨利</th>\n",
       "    </tr>\n",
       "  </thead>\n",
       "  <tbody>\n",
       "    <tr>\n",
       "      <th>1</th>\n",
       "      <td>1104</td>\n",
       "      <td>環球水泥股份有限公司</td>\n",
       "      <td>水泥工業</td>\n",
       "      <td>0.55</td>\n",
       "      <td>新台幣 10.0000元</td>\n",
       "      <td>1105803</td>\n",
       "      <td>31658</td>\n",
       "      <td>311221</td>\n",
       "      <td>342983</td>\n",
       "    </tr>\n",
       "    <tr>\n",
       "      <th>2</th>\n",
       "      <td>1108</td>\n",
       "      <td>幸福水泥股份有限公司</td>\n",
       "      <td>水泥工業</td>\n",
       "      <td>0.26</td>\n",
       "      <td>新台幣 10.0000元</td>\n",
       "      <td>995636</td>\n",
       "      <td>133019</td>\n",
       "      <td>-6225</td>\n",
       "      <td>104371</td>\n",
       "    </tr>\n",
       "    <tr>\n",
       "      <th>3</th>\n",
       "      <td>1110</td>\n",
       "      <td>東南水泥股份有限公司</td>\n",
       "      <td>水泥工業</td>\n",
       "      <td>0.21</td>\n",
       "      <td>新台幣 10.0000元</td>\n",
       "      <td>383670</td>\n",
       "      <td>15784</td>\n",
       "      <td>181488</td>\n",
       "      <td>216613</td>\n",
       "    </tr>\n",
       "    <tr>\n",
       "      <th>4</th>\n",
       "      <td>1101</td>\n",
       "      <td>台灣水泥股份有限公司</td>\n",
       "      <td>水泥工業</td>\n",
       "      <td>0.06</td>\n",
       "      <td>新台幣 10.0000元</td>\n",
       "      <td>17724112</td>\n",
       "      <td>483889</td>\n",
       "      <td>-206042</td>\n",
       "      <td>94527</td>\n",
       "    </tr>\n",
       "    <tr>\n",
       "      <th>5</th>\n",
       "      <td>1102</td>\n",
       "      <td>亞洲水泥股份有限公司</td>\n",
       "      <td>水泥工業</td>\n",
       "      <td>0.06</td>\n",
       "      <td>新台幣 10.0000元</td>\n",
       "      <td>13038960</td>\n",
       "      <td>406252</td>\n",
       "      <td>-123702</td>\n",
       "      <td>194459</td>\n",
       "    </tr>\n",
       "  </tbody>\n",
       "</table>\n",
       "</div>"
      ],
      "text/plain": [
       "0  公司代號        公司名稱   產業別 基本每股盈餘(元)       普通股每股面額      營業收入    營業利益 營業外收入及支出  \\\n",
       "1  1104  環球水泥股份有限公司  水泥工業      0.55  新台幣 10.0000元   1105803   31658   311221   \n",
       "2  1108  幸福水泥股份有限公司  水泥工業      0.26  新台幣 10.0000元    995636  133019    -6225   \n",
       "3  1110  東南水泥股份有限公司  水泥工業      0.21  新台幣 10.0000元    383670   15784   181488   \n",
       "4  1101  台灣水泥股份有限公司  水泥工業      0.06  新台幣 10.0000元  17724112  483889  -206042   \n",
       "5  1102  亞洲水泥股份有限公司  水泥工業      0.06  新台幣 10.0000元  13038960  406252  -123702   \n",
       "\n",
       "0    稅後淨利  \n",
       "1  342983  \n",
       "2  104371  \n",
       "3  216613  \n",
       "4   94527  \n",
       "5  194459  "
      ]
     },
     "execution_count": 26,
     "metadata": {},
     "output_type": "execute_result"
    }
   ],
   "source": [
    "# 列出水泥工業前五列\n",
    "cement_industry.head()"
   ]
  },
  {
   "cell_type": "code",
   "execution_count": 25,
   "metadata": {
    "collapsed": true
   },
   "outputs": [],
   "source": [
    "# 將資料寫進Excel\n",
    "cement_industry.to_excel('cement.xlsx')"
   ]
  }
 ],
 "metadata": {
  "kernelspec": {
   "display_name": "Python [Root]",
   "language": "python",
   "name": "Python [Root]"
  },
  "language_info": {
   "codemirror_mode": {
    "name": "ipython",
    "version": 3
   },
   "file_extension": ".py",
   "mimetype": "text/x-python",
   "name": "python",
   "nbconvert_exporter": "python",
   "pygments_lexer": "ipython3",
   "version": "3.5.2"
  }
 },
 "nbformat": 4,
 "nbformat_minor": 0
}
