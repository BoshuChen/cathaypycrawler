{
 "cells": [
  {
   "cell_type": "markdown",
   "metadata": {},
   "source": [
    "## 財報狗"
   ]
  },
  {
   "cell_type": "code",
   "execution_count": 4,
   "metadata": {
    "collapsed": false
   },
   "outputs": [],
   "source": [
    "import requests\n",
    "headers = {\n",
    "'X-Requested-With':'XMLHttpRequest',\n",
    "'User-Agent':'Mozilla/5.0 (Windows NT 6.1; WOW64) AppleWebKit/537.36 (KHTML, like Gecko) Chrome/53.0.2785.143 Safari/537.36'    \n",
    "    \n",
    "}\n",
    "res = requests.get('https://statementdog.com/analysis/analysis_ajax/2330/2011/1/2016/4/1?queried_by_user=false&_=1477013988030', headers = headers)\n",
    "#print(res.text)"
   ]
  },
  {
   "cell_type": "markdown",
   "metadata": {},
   "source": [
    "## 抓取公開資訊觀測站資料"
   ]
  },
  {
   "cell_type": "code",
   "execution_count": 9,
   "metadata": {
    "collapsed": false
   },
   "outputs": [],
   "source": [
    "import requests\n",
    "url = 'http://mops.twse.com.tw/mops/web/ajax_t163sb19'\n",
    "payload = {\n",
    "'encodeURIComponent':'1',\n",
    "'step'   :'1',\n",
    "'firstin':'1',\n",
    "'TYPEK'  :'sii',\n",
    "'code'   :'01',\n",
    "'year'   :'105',\n",
    "'season' :'01'\n",
    "}\n",
    "res = requests.post(url, data=payload)\n",
    "res.encoding = 'utf-8'\n",
    "#print(res.text)"
   ]
  },
  {
   "cell_type": "markdown",
   "metadata": {},
   "source": [
    "<table>\n",
    "    <tr> <th> col1 </th>   <th>  col2</th> </tr>\n",
    "    <tr> <td> A    </td>   <td>  1   </td> </tr>\n",
    "    <tr> <td> B    </td>   <td>  2   </td> </tr>\n",
    "</table>"
   ]
  },
  {
   "cell_type": "code",
   "execution_count": 11,
   "metadata": {
    "collapsed": true
   },
   "outputs": [],
   "source": [
    "# 透過Pands 讀取網頁資料\n",
    "import pandas\n",
    "dfs = pandas.read_html(res.text)"
   ]
  },
  {
   "cell_type": "code",
   "execution_count": 14,
   "metadata": {
    "collapsed": false
   },
   "outputs": [],
   "source": [
    "#取得 Data Frames 中的第一個Data Frame\n",
    "stockdf = dfs[0]"
   ]
  },
  {
   "cell_type": "code",
   "execution_count": 17,
   "metadata": {
    "collapsed": false
   },
   "outputs": [
    {
     "data": {
      "text/plain": [
       "Int64Index([0, 1, 2, 3, 4, 5, 6, 7, 8], dtype='int64')"
      ]
     },
     "execution_count": 17,
     "metadata": {},
     "output_type": "execute_result"
    }
   ],
   "source": [
    "# 欄位名稱\n",
    "stockdf.columns"
   ]
  },
  {
   "cell_type": "code",
   "execution_count": 16,
   "metadata": {
    "collapsed": false
   },
   "outputs": [
    {
     "data": {
      "text/plain": [
       "0         公司代號\n",
       "1         公司名稱\n",
       "2          產業別\n",
       "3    基本每股盈餘(元)\n",
       "4      普通股每股面額\n",
       "5         營業收入\n",
       "6         營業利益\n",
       "7     營業外收入及支出\n",
       "8         稅後淨利\n",
       "Name: 0, dtype: object"
      ]
     },
     "execution_count": 16,
     "metadata": {},
     "output_type": "execute_result"
    }
   ],
   "source": [
    "#抓取第 0列\n",
    "stockdf.iloc[0]"
   ]
  },
  {
   "cell_type": "code",
   "execution_count": 18,
   "metadata": {
    "collapsed": true
   },
   "outputs": [],
   "source": [
    "# 欄位名稱設為第一列\n",
    "stockdf.columns = stockdf.iloc[0]"
   ]
  },
  {
   "cell_type": "code",
   "execution_count": 22,
   "metadata": {
    "collapsed": false
   },
   "outputs": [
    {
     "data": {
      "text/plain": [
       "0     False\n",
       "1      True\n",
       "2      True\n",
       "3      True\n",
       "4      True\n",
       "5      True\n",
       "6     False\n",
       "7      True\n",
       "8      True\n",
       "9     False\n",
       "10    False\n",
       "Name: 公司代號, dtype: bool"
      ]
     },
     "execution_count": 22,
     "metadata": {},
     "output_type": "execute_result"
    }
   ],
   "source": [
    "# 抽取代號為數字的\n",
    "stockdf['公司代號'].str.match('^\\d+')"
   ]
  },
  {
   "cell_type": "code",
   "execution_count": 24,
   "metadata": {
    "collapsed": false
   },
   "outputs": [],
   "source": [
    "# 將所有公司的財報取出來\n",
    "cement_industry = stockdf[stockdf['公司代號'].str.match('^\\d+')]"
   ]
  },
  {
   "cell_type": "code",
   "execution_count": 26,
   "metadata": {
    "collapsed": false
   },
   "outputs": [
    {
     "data": {
      "text/html": [
       "<div>\n",
       "<table border=\"1\" class=\"dataframe\">\n",
       "  <thead>\n",
       "    <tr style=\"text-align: right;\">\n",
       "      <th></th>\n",
       "      <th>公司代號</th>\n",
       "      <th>公司名稱</th>\n",
       "      <th>產業別</th>\n",
       "      <th>基本每股盈餘(元)</th>\n",
       "      <th>普通股每股面額</th>\n",
       "      <th>營業收入</th>\n",
       "      <th>營業利益</th>\n",
       "      <th>營業外收入及支出</th>\n",
       "      <th>稅後淨利</th>\n",
       "    </tr>\n",
       "  </thead>\n",
       "  <tbody>\n",
       "    <tr>\n",
       "      <th>1</th>\n",
       "      <td>1104</td>\n",
       "      <td>環球水泥股份有限公司</td>\n",
       "      <td>水泥工業</td>\n",
       "      <td>0.55</td>\n",
       "      <td>新台幣 10.0000元</td>\n",
       "      <td>1105803</td>\n",
       "      <td>31658</td>\n",
       "      <td>311221</td>\n",
       "      <td>342983</td>\n",
       "    </tr>\n",
       "    <tr>\n",
       "      <th>2</th>\n",
       "      <td>1108</td>\n",
       "      <td>幸福水泥股份有限公司</td>\n",
       "      <td>水泥工業</td>\n",
       "      <td>0.26</td>\n",
       "      <td>新台幣 10.0000元</td>\n",
       "      <td>995636</td>\n",
       "      <td>133019</td>\n",
       "      <td>-6225</td>\n",
       "      <td>104371</td>\n",
       "    </tr>\n",
       "    <tr>\n",
       "      <th>3</th>\n",
       "      <td>1110</td>\n",
       "      <td>東南水泥股份有限公司</td>\n",
       "      <td>水泥工業</td>\n",
       "      <td>0.21</td>\n",
       "      <td>新台幣 10.0000元</td>\n",
       "      <td>383670</td>\n",
       "      <td>15784</td>\n",
       "      <td>181488</td>\n",
       "      <td>216613</td>\n",
       "    </tr>\n",
       "    <tr>\n",
       "      <th>4</th>\n",
       "      <td>1101</td>\n",
       "      <td>台灣水泥股份有限公司</td>\n",
       "      <td>水泥工業</td>\n",
       "      <td>0.06</td>\n",
       "      <td>新台幣 10.0000元</td>\n",
       "      <td>17724112</td>\n",
       "      <td>483889</td>\n",
       "      <td>-206042</td>\n",
       "      <td>94527</td>\n",
       "    </tr>\n",
       "    <tr>\n",
       "      <th>5</th>\n",
       "      <td>1102</td>\n",
       "      <td>亞洲水泥股份有限公司</td>\n",
       "      <td>水泥工業</td>\n",
       "      <td>0.06</td>\n",
       "      <td>新台幣 10.0000元</td>\n",
       "      <td>13038960</td>\n",
       "      <td>406252</td>\n",
       "      <td>-123702</td>\n",
       "      <td>194459</td>\n",
       "    </tr>\n",
       "  </tbody>\n",
       "</table>\n",
       "</div>"
      ],
      "text/plain": [
       "0  公司代號        公司名稱   產業別 基本每股盈餘(元)       普通股每股面額      營業收入    營業利益 營業外收入及支出  \\\n",
       "1  1104  環球水泥股份有限公司  水泥工業      0.55  新台幣 10.0000元   1105803   31658   311221   \n",
       "2  1108  幸福水泥股份有限公司  水泥工業      0.26  新台幣 10.0000元    995636  133019    -6225   \n",
       "3  1110  東南水泥股份有限公司  水泥工業      0.21  新台幣 10.0000元    383670   15784   181488   \n",
       "4  1101  台灣水泥股份有限公司  水泥工業      0.06  新台幣 10.0000元  17724112  483889  -206042   \n",
       "5  1102  亞洲水泥股份有限公司  水泥工業      0.06  新台幣 10.0000元  13038960  406252  -123702   \n",
       "\n",
       "0    稅後淨利  \n",
       "1  342983  \n",
       "2  104371  \n",
       "3  216613  \n",
       "4   94527  \n",
       "5  194459  "
      ]
     },
     "execution_count": 26,
     "metadata": {},
     "output_type": "execute_result"
    }
   ],
   "source": [
    "# 列出水泥工業前五列\n",
    "cement_industry.head()"
   ]
  },
  {
   "cell_type": "code",
   "execution_count": 25,
   "metadata": {
    "collapsed": true
   },
   "outputs": [],
   "source": [
    "# 將資料寫進Excel\n",
    "cement_industry.to_excel('cement.xlsx')"
   ]
  },
  {
   "cell_type": "markdown",
   "metadata": {},
   "source": [
    "## 整理完整EPS資訊"
   ]
  },
  {
   "cell_type": "code",
   "execution_count": 28,
   "metadata": {
    "collapsed": true
   },
   "outputs": [],
   "source": [
    "import requests\n",
    "import pandas\n",
    "\n",
    "# 建立一EPS 函式\n",
    "def getEPS(year, season):\n",
    "    url = 'http://mops.twse.com.tw/mops/web/ajax_t163sb19'\n",
    "    payload = {\n",
    "    'encodeURIComponent':'1',\n",
    "    'step'   :'1',\n",
    "    'firstin':'1',\n",
    "    'TYPEK'  :'sii',\n",
    "    'code'   :'01',\n",
    "    'year'   : year,\n",
    "    'season' : season\n",
    "    }\n",
    "    res = requests.post(url, data=payload)\n",
    "    res.encoding = 'utf-8'\n",
    "\n",
    "    dfs     = pandas.read_html(res.text)\n",
    "    stockdf = dfs[0]\n",
    "    \n",
    "    # 欄位名稱設為第一列\n",
    "    stockdf.columns = stockdf.iloc[0]\n",
    "\n",
    "    stockdf = stockdf[stockdf['公司代號'].str.match('^\\d+')]\n",
    "    stockdf['year']   = year\n",
    "    stockdf['season'] = season\n",
    "    return stockdf\n",
    "    "
   ]
  },
  {
   "cell_type": "code",
   "execution_count": null,
   "metadata": {
    "collapsed": true
   },
   "outputs": [],
   "source": [
    "dfall = []\n",
    "\n",
    "# 根據民國年與季抓取資料\n",
    "seasons = ['01', '02', '03', '04']\n",
    "for year in range(102, 105):\n",
    "    for season in seasons:\n",
    "        # 將每一次抓取到的EPS 塞入一個List 之中\n",
    "        dfall.append(getEPS(year, season))"
   ]
  },
  {
   "cell_type": "code",
   "execution_count": 32,
   "metadata": {
    "collapsed": false
   },
   "outputs": [
    {
     "data": {
      "text/html": [
       "<div>\n",
       "<table border=\"1\" class=\"dataframe\">\n",
       "  <thead>\n",
       "    <tr style=\"text-align: right;\">\n",
       "      <th></th>\n",
       "      <th>公司代號</th>\n",
       "      <th>公司名稱</th>\n",
       "      <th>產業別</th>\n",
       "      <th>基本每股盈餘(元)</th>\n",
       "      <th>普通股每股面額</th>\n",
       "      <th>營業收入</th>\n",
       "      <th>營業利益</th>\n",
       "      <th>營業外收入及支出</th>\n",
       "      <th>稅後淨利</th>\n",
       "      <th>year</th>\n",
       "      <th>season</th>\n",
       "    </tr>\n",
       "  </thead>\n",
       "  <tbody>\n",
       "    <tr>\n",
       "      <th>1</th>\n",
       "      <td>1102</td>\n",
       "      <td>亞洲水泥股份有限公司</td>\n",
       "      <td>水泥工業</td>\n",
       "      <td>0.40</td>\n",
       "      <td>新台幣 10.0000元</td>\n",
       "      <td>13931550</td>\n",
       "      <td>339801</td>\n",
       "      <td>1250044</td>\n",
       "      <td>1371559</td>\n",
       "      <td>102</td>\n",
       "      <td>01</td>\n",
       "    </tr>\n",
       "    <tr>\n",
       "      <th>2</th>\n",
       "      <td>1101</td>\n",
       "      <td>台灣水泥股份有限公司</td>\n",
       "      <td>水泥工業</td>\n",
       "      <td>0.38</td>\n",
       "      <td>新台幣 10.0000元</td>\n",
       "      <td>24114047</td>\n",
       "      <td>2026729</td>\n",
       "      <td>314060</td>\n",
       "      <td>1999624</td>\n",
       "      <td>102</td>\n",
       "      <td>01</td>\n",
       "    </tr>\n",
       "    <tr>\n",
       "      <th>3</th>\n",
       "      <td>1104</td>\n",
       "      <td>環球水泥股份有限公司</td>\n",
       "      <td>水泥工業</td>\n",
       "      <td>0.30</td>\n",
       "      <td>新台幣 10.0000元</td>\n",
       "      <td>1248072</td>\n",
       "      <td>30247</td>\n",
       "      <td>156012</td>\n",
       "      <td>183441</td>\n",
       "      <td>102</td>\n",
       "      <td>01</td>\n",
       "    </tr>\n",
       "    <tr>\n",
       "      <th>4</th>\n",
       "      <td>1108</td>\n",
       "      <td>幸福水泥股份有限公司</td>\n",
       "      <td>水泥工業</td>\n",
       "      <td>0.17</td>\n",
       "      <td>新台幣 10.0000元</td>\n",
       "      <td>1203671</td>\n",
       "      <td>98223</td>\n",
       "      <td>-13612</td>\n",
       "      <td>63869</td>\n",
       "      <td>102</td>\n",
       "      <td>01</td>\n",
       "    </tr>\n",
       "    <tr>\n",
       "      <th>5</th>\n",
       "      <td>1103</td>\n",
       "      <td>嘉新水泥股份有限公司</td>\n",
       "      <td>水泥工業</td>\n",
       "      <td>0.13</td>\n",
       "      <td>新台幣 10.0000元</td>\n",
       "      <td>741189</td>\n",
       "      <td>-149811</td>\n",
       "      <td>183613</td>\n",
       "      <td>59637</td>\n",
       "      <td>102</td>\n",
       "      <td>01</td>\n",
       "    </tr>\n",
       "  </tbody>\n",
       "</table>\n",
       "</div>"
      ],
      "text/plain": [
       "0  公司代號        公司名稱   產業別 基本每股盈餘(元)       普通股每股面額      營業收入     營業利益 營業外收入及支出  \\\n",
       "1  1102  亞洲水泥股份有限公司  水泥工業      0.40  新台幣 10.0000元  13931550   339801  1250044   \n",
       "2  1101  台灣水泥股份有限公司  水泥工業      0.38  新台幣 10.0000元  24114047  2026729   314060   \n",
       "3  1104  環球水泥股份有限公司  水泥工業      0.30  新台幣 10.0000元   1248072    30247   156012   \n",
       "4  1108  幸福水泥股份有限公司  水泥工業      0.17  新台幣 10.0000元   1203671    98223   -13612   \n",
       "5  1103  嘉新水泥股份有限公司  水泥工業      0.13  新台幣 10.0000元    741189  -149811   183613   \n",
       "\n",
       "0     稅後淨利  year season  \n",
       "1  1371559   102     01  \n",
       "2  1999624   102     01  \n",
       "3   183441   102     01  \n",
       "4    63869   102     01  \n",
       "5    59637   102     01  "
      ]
     },
     "execution_count": 32,
     "metadata": {},
     "output_type": "execute_result"
    }
   ],
   "source": [
    "# 使用concat 合併所有EPS 資訊\n",
    "epsdf = pandas.concat(dfall)\n",
    "epsdf.head()\n"
   ]
  },
  {
   "cell_type": "markdown",
   "metadata": {},
   "source": [
    "## 抓取591 屋主資訊"
   ]
  },
  {
   "cell_type": "code",
   "execution_count": 33,
   "metadata": {
    "collapsed": true
   },
   "outputs": [],
   "source": [
    "import requests\n",
    "import shutil\n",
    "picurl = 'https://statics.591.com.tw/tools/showPhone.php?info_data=%2B%2BFQN75KrrlhHO%2Bri2nT%2BhxZOaY&type=rLEFMu4XrrpgEw'\n",
    "# 讀取資料 by chunk\n",
    "res = requests.get(picurl, stream=True)\n",
    "# 使用wb 寫入\n",
    "with open('phone.png', 'wb') as f:\n",
    "    # 將讀回來的物件copy 到 檔案中\n",
    "    shutil.copyfileobj(res.raw, f)"
   ]
  },
  {
   "cell_type": "code",
   "execution_count": 1,
   "metadata": {
    "collapsed": false
   },
   "outputs": [
    {
     "data": {
      "image/png": "[encoded data removed]",
      "text/plain": [
       "<PIL.PngImagePlugin.PngImageFile image mode=P size=180x30 at 0x466ACC0>"
      ]
     },
     "execution_count": 1,
     "metadata": {},
     "output_type": "execute_result"
    }
   ],
   "source": [
    "# 將圖片show 在畫面上\n",
    "from PIL import Image\n",
    "Image.open('phone.png')"
   ]
  },
  {
   "cell_type": "markdown",
   "metadata": {},
   "source": [
    "# 安裝OCR 工具\n",
    "1. pip install pytessaract (在Anaconda Prompt 黑黑的畫面裡)\n",
    "2. 到tesseract 的網站下載tessract ocr\n",
    "-  https://sourceforge.net/projects/tesseract-ocr-alt/files/latest/download?source=files\n",
    "3. 安裝下載檔案\n",
    "4. 重新啟動jupyter notebook"
   ]
  },
  {
   "cell_type": "code",
   "execution_count": 7,
   "metadata": {
    "collapsed": false
   },
   "outputs": [],
   "source": [
    "# 使用Pytesseract 將圖片變文字\n",
    "import pytesseract\n",
    "phone = pytesseract.image_to_string(Image.open('phone.png'))"
   ]
  },
  {
   "cell_type": "code",
   "execution_count": 8,
   "metadata": {
    "collapsed": false
   },
   "outputs": [
    {
     "data": {
      "text/plain": [
       "'0955284831'"
      ]
     },
     "execution_count": 8,
     "metadata": {},
     "output_type": "execute_result"
    }
   ],
   "source": [
    "# 產生電話號碼\n",
    "phone_split  = phone.split('- ')\n",
    "''.join(phone_split)"
   ]
  }
 ],
 "metadata": {
  "kernelspec": {
   "display_name": "Python [Root]",
   "language": "python",
   "name": "Python [Root]"
  },
  "language_info": {
   "codemirror_mode": {
    "name": "ipython",
    "version": 3
   },
   "file_extension": ".py",
   "mimetype": "text/x-python",
   "name": "python",
   "nbconvert_exporter": "python",
   "pygments_lexer": "ipython3",
   "version": "3.5.2"
  }
 },
 "nbformat": 4,
 "nbformat_minor": 0
}
